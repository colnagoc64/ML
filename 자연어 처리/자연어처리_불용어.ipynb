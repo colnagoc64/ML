{
 "cells": [
  {
   "cell_type": "code",
   "execution_count": 24,
   "id": "fb001223-0a0c-4116-b987-43336995cc08",
   "metadata": {},
   "outputs": [],
   "source": [
    "# import nltk"
   ]
  },
  {
   "cell_type": "code",
   "execution_count": 25,
   "id": "55fa7f46-fea1-49e1-8b1b-23b8140d3535",
   "metadata": {},
   "outputs": [],
   "source": [
    "#nltk.download()"
   ]
  },
  {
   "cell_type": "code",
   "execution_count": 26,
   "id": "0bc5b512-e399-4b5d-8030-fbf9b24afac6",
   "metadata": {},
   "outputs": [],
   "source": [
    "import pandas as pd\n",
    "import matplotlib.pyplot as plt"
   ]
  },
  {
   "cell_type": "code",
   "execution_count": 27,
   "id": "44a55e42-3c2e-412c-9cf0-70f70b58da3e",
   "metadata": {},
   "outputs": [],
   "source": [
    "a=file =open('bbc.txt')\n",
    "a=file.read()"
   ]
  },
  {
   "cell_type": "code",
   "execution_count": 28,
   "id": "aa017aa9-d676-423d-b858-529498072572",
   "metadata": {},
   "outputs": [
    {
     "data": {
      "text/plain": [
       "'A hockey team and bank have apologised after a charity event for South Dakota teachers went viral and was condemned online as demeaning and \"dystopian\".\\n\\nThe \"Dash for Cash\" on Saturday saw willing teachers at a hockey game scoop as many possible $1 bills into their clothing in under five minutes.\\n\\nThe educators, who are among the lowest funded in the US, said they would spend the money on school supplies.\\n\\nOn Monday, the local hockey team and bank that donated the cash apologised.\\n\\nIn a statement, the Sioux Falls Stampede and the CU Mortgage Direct bank said: \"Although our intent was to provide a positive and fun experience for teachers, we can see how it appears to be degrading and insulting towards the participating teachers and the teaching profession as a whole.\\n\\n\"We deeply regret and apologise to all teachers for any embarrassment this may have caused.\"\\n\\nThey added that they received applications from 31 teachers and randomly drew 10 to appear on the ice for the promotion.\\n\\n\\nThe BBC is not responsible for the content of external sites.\\nView original tweet on Twitter\\nPresentational white space\\nEach teacher received at least $500, they said, adding that the teachers were each \"profiled and introduced prior to the event\". They will each now receive another $500, and another $500 will be given to the other 21 teachers who were not selected.\\n\\nTeachers had told the Argus Leader newspaper that they would spend the money on standing desks or cameras they would use for uploading teaching materials online.\\n\\nCritics compared the event to the hit Korean Netflix show, Squid Games, in which competitors fight to the death for a cash prize.\\n\\nOthers condemned it as \"humiliating\" and pointed out the many ways that teachers have struggled under the pandemic.\\n\\nAccording to the newspaper, South Dakota teachers are paid an average of $49,000 per year, making them the lowest paid in the nation.\\n\\nTeachers in the US are also often expected to spend their own money on teaching tools in the classroom.\\n\\nRelated Topics'"
      ]
     },
     "execution_count": 28,
     "metadata": {},
     "output_type": "execute_result"
    }
   ],
   "source": [
    "a"
   ]
  },
  {
   "cell_type": "code",
   "execution_count": 29,
   "id": "04ec486a-dbb5-41c5-bd5b-70135ff7d7d9",
   "metadata": {},
   "outputs": [],
   "source": [
    "stopwords =open('stopwords.txt')"
   ]
  },
  {
   "cell_type": "code",
   "execution_count": 30,
   "id": "5a9f5e53-431c-4118-ba96-af996939c82b",
   "metadata": {},
   "outputs": [
    {
     "name": "stdout",
     "output_type": "stream",
     "text": [
      "\"\n",
      "the\n",
      "as\n",
      "in\n",
      "a\n",
      "to\n",
      "on\n",
      "of\n",
      "it\n",
      "and\n",
      "teachers\n",
      "that\n",
      "they\n",
      "after\n",
      "have\n",
      "for\n",
      "was\n",
      "their\n",
      "into\n",
      "we\n",
      "be\n",
      "teaching\n",
      "31\n",
      "from\n",
      "is\n",
      "bbc\n"
     ]
    }
   ],
   "source": [
    "for line in open('stopwords.txt'):\n",
    "    print(line.strip())"
   ]
  },
  {
   "cell_type": "code",
   "execution_count": 31,
   "id": "d72bb201-26ae-4ff8-b0eb-3b3bc8966255",
   "metadata": {},
   "outputs": [],
   "source": [
    "# collections\n",
    "# list(순서), dictionary(키:값)\n",
    "# tuple(순서 , 읽기전용), set(중복x)"
   ]
  },
  {
   "cell_type": "code",
   "execution_count": 32,
   "id": "781de18d-c89d-4109-ab05-8142a3020437",
   "metadata": {},
   "outputs": [
    {
     "data": {
      "text/plain": [
       "{'\"',\n",
       " '31',\n",
       " 'a',\n",
       " 'after',\n",
       " 'and',\n",
       " 'as',\n",
       " 'bbc',\n",
       " 'be',\n",
       " 'for',\n",
       " 'from',\n",
       " 'have',\n",
       " 'in',\n",
       " 'into',\n",
       " 'is',\n",
       " 'it',\n",
       " 'of',\n",
       " 'on',\n",
       " 'teachers',\n",
       " 'teaching',\n",
       " 'that',\n",
       " 'the',\n",
       " 'their',\n",
       " 'they',\n",
       " 'to',\n",
       " 'was',\n",
       " 'we'}"
      ]
     },
     "execution_count": 32,
     "metadata": {},
     "output_type": "execute_result"
    }
   ],
   "source": [
    "stopwords=set(line.strip() for line in open('stopwords.txt')) # 익명함수,클러저\n",
    "stopwords"
   ]
  },
  {
   "cell_type": "code",
   "execution_count": 33,
   "id": "52c4c895-72e8-45a7-8ebc-72f7402bb225",
   "metadata": {},
   "outputs": [
    {
     "data": {
      "text/plain": [
       "{'\"',\n",
       " '31',\n",
       " 'a',\n",
       " 'after',\n",
       " 'and',\n",
       " 'as',\n",
       " 'bbc',\n",
       " 'be',\n",
       " 'for',\n",
       " 'from',\n",
       " 'have',\n",
       " 'in',\n",
       " 'into',\n",
       " 'is',\n",
       " 'it',\n",
       " 'mr',\n",
       " 'mrs',\n",
       " 'of',\n",
       " 'on',\n",
       " 'one',\n",
       " 'teachers',\n",
       " 'teaching',\n",
       " 'that',\n",
       " 'the',\n",
       " 'their',\n",
       " 'they',\n",
       " 'to',\n",
       " 'was',\n",
       " 'we'}"
      ]
     },
     "execution_count": 33,
     "metadata": {},
     "output_type": "execute_result"
    }
   ],
   "source": [
    "stopwords =stopwords.union(set(['mr','mrs','one'])) \n",
    "stopwords # 유니온해서 추가적으로 넣어버리기"
   ]
  },
  {
   "cell_type": "code",
   "execution_count": 34,
   "id": "705c2c6c-fce5-4777-9048-1446e3e4e20d",
   "metadata": {},
   "outputs": [],
   "source": [
    "wordcount ={}\n",
    "for word in a.lower().split():\n",
    "    word = word.replace(\".\",\"\")\n",
    "    word = word.replace(\",\",\"\")\n",
    "    word = word.replace(\":\",\"\")\n",
    "    word = word.replace(\"/\",\"\")\n",
    "    word = word.replace(\"*\",\"\")\n",
    "    \n",
    "    if word not in stopwords:\n",
    "        if word not in wordcount:\n",
    "            wordcount[word] = 1 \n",
    "        else:\n",
    "            wordcount[word] += 1 "
   ]
  },
  {
   "cell_type": "code",
   "execution_count": 35,
   "id": "8f0b9566-76f8-4031-aa0b-27635c21fa10",
   "metadata": {},
   "outputs": [
    {
     "data": {
      "text/plain": [
       "{'hockey': 3,\n",
       " 'team': 2,\n",
       " 'bank': 3,\n",
       " 'apologised': 2,\n",
       " 'charity': 1,\n",
       " 'event': 2,\n",
       " 'south': 2,\n",
       " 'dakota': 2,\n",
       " 'went': 1,\n",
       " 'viral': 1,\n",
       " 'condemned': 2,\n",
       " 'online': 2,\n",
       " 'demeaning': 1,\n",
       " '\"dystopian\"': 1,\n",
       " '\"dash': 1,\n",
       " 'cash\"': 1,\n",
       " 'saturday': 1,\n",
       " 'saw': 1,\n",
       " 'willing': 1,\n",
       " 'at': 2,\n",
       " 'game': 1,\n",
       " 'scoop': 1,\n",
       " 'many': 2,\n",
       " 'possible': 1,\n",
       " '$1': 1,\n",
       " 'bills': 1,\n",
       " 'clothing': 1,\n",
       " 'under': 2,\n",
       " 'five': 1,\n",
       " 'minutes': 1,\n",
       " 'educators': 1,\n",
       " 'who': 2,\n",
       " 'are': 3,\n",
       " 'among': 1,\n",
       " 'lowest': 2,\n",
       " 'funded': 1,\n",
       " 'us': 2,\n",
       " 'said': 3,\n",
       " 'would': 3,\n",
       " 'spend': 3,\n",
       " 'money': 3,\n",
       " 'school': 1,\n",
       " 'supplies': 1,\n",
       " 'monday': 1,\n",
       " 'local': 1,\n",
       " 'donated': 1,\n",
       " 'cash': 2,\n",
       " 'statement': 1,\n",
       " 'sioux': 1,\n",
       " 'falls': 1,\n",
       " 'stampede': 1,\n",
       " 'cu': 1,\n",
       " 'mortgage': 1,\n",
       " 'direct': 1,\n",
       " '\"although': 1,\n",
       " 'our': 1,\n",
       " 'intent': 1,\n",
       " 'provide': 1,\n",
       " 'positive': 1,\n",
       " 'fun': 1,\n",
       " 'experience': 1,\n",
       " 'can': 1,\n",
       " 'see': 1,\n",
       " 'how': 1,\n",
       " 'appears': 1,\n",
       " 'degrading': 1,\n",
       " 'insulting': 1,\n",
       " 'towards': 1,\n",
       " 'participating': 1,\n",
       " 'profession': 1,\n",
       " 'whole': 1,\n",
       " '\"we': 1,\n",
       " 'deeply': 1,\n",
       " 'regret': 1,\n",
       " 'apologise': 1,\n",
       " 'all': 1,\n",
       " 'any': 1,\n",
       " 'embarrassment': 1,\n",
       " 'this': 1,\n",
       " 'may': 1,\n",
       " 'caused\"': 1,\n",
       " 'added': 1,\n",
       " 'received': 2,\n",
       " 'applications': 1,\n",
       " 'randomly': 1,\n",
       " 'drew': 1,\n",
       " '10': 1,\n",
       " 'appear': 1,\n",
       " 'ice': 1,\n",
       " 'promotion': 1,\n",
       " 'not': 2,\n",
       " 'responsible': 1,\n",
       " 'content': 1,\n",
       " 'external': 1,\n",
       " 'sites': 1,\n",
       " 'view': 1,\n",
       " 'original': 1,\n",
       " 'tweet': 1,\n",
       " 'twitter': 1,\n",
       " 'presentational': 1,\n",
       " 'white': 1,\n",
       " 'space': 1,\n",
       " 'each': 3,\n",
       " 'teacher': 1,\n",
       " 'least': 1,\n",
       " '$500': 3,\n",
       " 'adding': 1,\n",
       " 'were': 2,\n",
       " '\"profiled': 1,\n",
       " 'introduced': 1,\n",
       " 'prior': 1,\n",
       " 'event\"': 1,\n",
       " 'will': 2,\n",
       " 'now': 1,\n",
       " 'receive': 1,\n",
       " 'another': 2,\n",
       " 'given': 1,\n",
       " 'other': 1,\n",
       " '21': 1,\n",
       " 'selected': 1,\n",
       " 'had': 1,\n",
       " 'told': 1,\n",
       " 'argus': 1,\n",
       " 'leader': 1,\n",
       " 'newspaper': 2,\n",
       " 'standing': 1,\n",
       " 'desks': 1,\n",
       " 'or': 1,\n",
       " 'cameras': 1,\n",
       " 'use': 1,\n",
       " 'uploading': 1,\n",
       " 'materials': 1,\n",
       " 'critics': 1,\n",
       " 'compared': 1,\n",
       " 'hit': 1,\n",
       " 'korean': 1,\n",
       " 'netflix': 1,\n",
       " 'show': 1,\n",
       " 'squid': 1,\n",
       " 'games': 1,\n",
       " 'which': 1,\n",
       " 'competitors': 1,\n",
       " 'fight': 1,\n",
       " 'death': 1,\n",
       " 'prize': 1,\n",
       " 'others': 1,\n",
       " '\"humiliating\"': 1,\n",
       " 'pointed': 1,\n",
       " 'out': 1,\n",
       " 'ways': 1,\n",
       " 'struggled': 1,\n",
       " 'pandemic': 1,\n",
       " 'according': 1,\n",
       " 'paid': 2,\n",
       " 'an': 1,\n",
       " 'average': 1,\n",
       " '$49000': 1,\n",
       " 'per': 1,\n",
       " 'year': 1,\n",
       " 'making': 1,\n",
       " 'them': 1,\n",
       " 'nation': 1,\n",
       " 'also': 1,\n",
       " 'often': 1,\n",
       " 'expected': 1,\n",
       " 'own': 1,\n",
       " 'tools': 1,\n",
       " 'classroom': 1,\n",
       " 'related': 1,\n",
       " 'topics': 1}"
      ]
     },
     "execution_count": 35,
     "metadata": {},
     "output_type": "execute_result"
    }
   ],
   "source": [
    "wordcount"
   ]
  },
  {
   "cell_type": "code",
   "execution_count": 36,
   "id": "72d50735-b72a-40b0-9aa9-46c3ed241132",
   "metadata": {},
   "outputs": [],
   "source": [
    "import collections"
   ]
  },
  {
   "cell_type": "code",
   "execution_count": 37,
   "id": "88eff6a1-6870-496a-bc91-35e332c88354",
   "metadata": {},
   "outputs": [],
   "source": [
    "word_counter=collections.Counter(wordcount)"
   ]
  },
  {
   "cell_type": "code",
   "execution_count": 42,
   "id": "c28b1938-919e-4c9d-8322-d38f79e2b0f1",
   "metadata": {},
   "outputs": [
    {
     "data": {
      "text/plain": [
       "[('hockey', 3),\n",
       " ('bank', 3),\n",
       " ('are', 3),\n",
       " ('said', 3),\n",
       " ('would', 3),\n",
       " ('spend', 3),\n",
       " ('money', 3),\n",
       " ('each', 3),\n",
       " ('$500', 3),\n",
       " ('team', 2)]"
      ]
     },
     "execution_count": 42,
     "metadata": {},
     "output_type": "execute_result"
    }
   ],
   "source": [
    "word_counter.most_common(10)"
   ]
  },
  {
   "cell_type": "code",
   "execution_count": 45,
   "id": "972ee12e-8a72-46f7-a9c0-987add5d1b92",
   "metadata": {},
   "outputs": [
    {
     "name": "stdin",
     "output_type": "stream",
     "text": [
      "how many list: 5\n"
     ]
    },
    {
     "name": "stdout",
     "output_type": "stream",
     "text": [
      "hockey : 3\n",
      "bank : 3\n",
      "are : 3\n",
      "said : 3\n",
      "would : 3\n"
     ]
    }
   ],
   "source": [
    "n_print = int(input('how many list:'))\n",
    "for word, count in word_counter.most_common(n_print):\n",
    "    print(word,':',count)\n",
    "              "
   ]
  },
  {
   "cell_type": "code",
   "execution_count": 46,
   "id": "d87753f4-db83-49f2-800c-e8e03cdcb078",
   "metadata": {},
   "outputs": [],
   "source": [
    "file.close() # 끄게되면 더이상 시피유 렘에 메모리 차지하지 않음"
   ]
  },
  {
   "cell_type": "code",
   "execution_count": 47,
   "id": "76669d2f-8758-4a4a-9ac1-dfd145d3adf7",
   "metadata": {},
   "outputs": [],
   "source": [
    "list = word_counter.most_common(n_print)\n",
    "df = pd.DataFrame(list,columns=['word','Count'])"
   ]
  },
  {
   "cell_type": "code",
   "execution_count": 48,
   "id": "ca786c96-edb4-465c-b32b-4d3b619c5316",
   "metadata": {},
   "outputs": [
    {
     "data": {
      "text/html": [
       "<div>\n",
       "<style scoped>\n",
       "    .dataframe tbody tr th:only-of-type {\n",
       "        vertical-align: middle;\n",
       "    }\n",
       "\n",
       "    .dataframe tbody tr th {\n",
       "        vertical-align: top;\n",
       "    }\n",
       "\n",
       "    .dataframe thead th {\n",
       "        text-align: right;\n",
       "    }\n",
       "</style>\n",
       "<table border=\"1\" class=\"dataframe\">\n",
       "  <thead>\n",
       "    <tr style=\"text-align: right;\">\n",
       "      <th></th>\n",
       "      <th>word</th>\n",
       "      <th>Count</th>\n",
       "    </tr>\n",
       "  </thead>\n",
       "  <tbody>\n",
       "    <tr>\n",
       "      <th>0</th>\n",
       "      <td>hockey</td>\n",
       "      <td>3</td>\n",
       "    </tr>\n",
       "    <tr>\n",
       "      <th>1</th>\n",
       "      <td>bank</td>\n",
       "      <td>3</td>\n",
       "    </tr>\n",
       "    <tr>\n",
       "      <th>2</th>\n",
       "      <td>are</td>\n",
       "      <td>3</td>\n",
       "    </tr>\n",
       "    <tr>\n",
       "      <th>3</th>\n",
       "      <td>said</td>\n",
       "      <td>3</td>\n",
       "    </tr>\n",
       "    <tr>\n",
       "      <th>4</th>\n",
       "      <td>would</td>\n",
       "      <td>3</td>\n",
       "    </tr>\n",
       "  </tbody>\n",
       "</table>\n",
       "</div>"
      ],
      "text/plain": [
       "     word  Count\n",
       "0  hockey      3\n",
       "1    bank      3\n",
       "2     are      3\n",
       "3    said      3\n",
       "4   would      3"
      ]
     },
     "execution_count": 48,
     "metadata": {},
     "output_type": "execute_result"
    }
   ],
   "source": [
    "df"
   ]
  },
  {
   "cell_type": "code",
   "execution_count": 49,
   "id": "249c9282-7694-4b68-9e35-98faf4c1a41a",
   "metadata": {},
   "outputs": [
    {
     "data": {
      "text/plain": [
       "<AxesSubplot:xlabel='word'>"
      ]
     },
     "execution_count": 49,
     "metadata": {},
     "output_type": "execute_result"
    },
    {
     "data": {
      "image/png": "[encoded data removed]",
      "text/plain": [
       "<Figure size 432x288 with 1 Axes>"
      ]
     },
     "metadata": {
      "needs_background": "light"
     },
     "output_type": "display_data"
    }
   ],
   "source": [
    "df.plot.bar(x='word',y='Count')"
   ]
  }
 ],
 "metadata": {
  "kernelspec": {
   "display_name": "Python 3 (ipykernel)",
   "language": "python",
   "name": "python3"
  },
  "language_info": {
   "codemirror_mode": {
    "name": "ipython",
    "version": 3
   },
   "file_extension": ".py",
   "mimetype": "text/x-python",
   "name": "python",
   "nbconvert_exporter": "python",
   "pygments_lexer": "ipython3",
   "version": "3.9.7"
  }
 },
 "nbformat": 4,
 "nbformat_minor": 5
}
