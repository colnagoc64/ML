{
 "cells": [
  {
   "cell_type": "code",
   "execution_count": 1,
   "id": "28ec18f6-0614-4ff9-a265-e549b01b7683",
   "metadata": {},
   "outputs": [],
   "source": [
    "import pandas as pd\n",
    "import glob\n",
    "import re\n",
    "from functools import reduce\n",
    "\n",
    "from nltk.tokenize import word_tokenize\n",
    "from nltk.corpus import stopwords\n",
    "from nltk.stem import WordNetLemmatizer\n",
    "\n",
    "from collections import Counter\n",
    "\n",
    "import matplotlib.pyplot as plt\n",
    "from wordcloud import WordCloud, STOPWORDS"
   ]
  },
  {
   "cell_type": "code",
   "execution_count": 2,
   "id": "489b24b7-f7b6-4a79-ae87-f6b9104f6553",
   "metadata": {},
   "outputs": [],
   "source": [
    "import nltk"
   ]
  },
  {
   "cell_type": "code",
   "execution_count": 3,
   "id": "9ca3186b-0ebe-4e7a-a5ff-c64bb72f8641",
   "metadata": {},
   "outputs": [],
   "source": [
    "all_files = glob.glob(\"./data_list2/my*.xls\")"
   ]
  },
  {
   "cell_type": "code",
   "execution_count": 4,
   "id": "377eaec1-c0ba-4788-9a70-f8aa457111dd",
   "metadata": {},
   "outputs": [
    {
     "data": {
      "text/plain": [
       "['./data_list2\\\\myCabinetExcelData (1).xls',\n",
       " './data_list2\\\\myCabinetExcelData (2).xls',\n",
       " './data_list2\\\\myCabinetExcelData (3).xls',\n",
       " './data_list2\\\\myCabinetExcelData (4).xls',\n",
       " './data_list2\\\\myCabinetExcelData (5).xls',\n",
       " './data_list2\\\\myCabinetExcelData (6).xls',\n",
       " './data_list2\\\\myCabinetExcelData (7).xls',\n",
       " './data_list2\\\\myCabinetExcelData (8).xls',\n",
       " './data_list2\\\\myCabinetExcelData (9).xls',\n",
       " './data_list2\\\\myCabinetExcelData.xls']"
      ]
     },
     "execution_count": 4,
     "metadata": {},
     "output_type": "execute_result"
    }
   ],
   "source": [
    "all_files"
   ]
  },
  {
   "cell_type": "code",
   "execution_count": 5,
   "id": "1158ba3d-f158-49cd-b340-3fa5dbe8b6a3",
   "metadata": {},
   "outputs": [],
   "source": [
    "all_files_data=[]"
   ]
  },
  {
   "cell_type": "code",
   "execution_count": 6,
   "id": "ffb758b3-0af6-4a53-83be-8100a393e9ff",
   "metadata": {
    "collapsed": true,
    "jupyter": {
     "outputs_hidden": true
    },
    "tags": []
   },
   "outputs": [
    {
     "data": {
      "text/html": [
       "<div>\n",
       "<style scoped>\n",
       "    .dataframe tbody tr th:only-of-type {\n",
       "        vertical-align: middle;\n",
       "    }\n",
       "\n",
       "    .dataframe tbody tr th {\n",
       "        vertical-align: top;\n",
       "    }\n",
       "\n",
       "    .dataframe thead th {\n",
       "        text-align: right;\n",
       "    }\n",
       "</style>\n",
       "<table border=\"1\" class=\"dataframe\">\n",
       "  <thead>\n",
       "    <tr style=\"text-align: right;\">\n",
       "      <th></th>\n",
       "      <th>Unnamed: 0</th>\n",
       "      <th>번호</th>\n",
       "      <th>제목</th>\n",
       "      <th>저자</th>\n",
       "      <th>출판사</th>\n",
       "      <th>출판일</th>\n",
       "    </tr>\n",
       "  </thead>\n",
       "  <tbody>\n",
       "    <tr>\n",
       "      <th>0</th>\n",
       "      <td>NaN</td>\n",
       "      <td>1</td>\n",
       "      <td>Le gout de pomme de terre du cafe Arabica au B...</td>\n",
       "      <td>Bouyjou, B.</td>\n",
       "      <td>ASIC ASSOCIATION SCIENTIFIQUE INTERNATIONALE</td>\n",
       "      <td>1993</td>\n",
       "    </tr>\n",
       "    <tr>\n",
       "      <th>1</th>\n",
       "      <td>NaN</td>\n",
       "      <td>2</td>\n",
       "      <td>Piegeage de masse du scolyte du cafe Hypothene...</td>\n",
       "      <td>Dufour, B.</td>\n",
       "      <td>unknown</td>\n",
       "      <td>1999</td>\n",
       "    </tr>\n",
       "    <tr>\n",
       "      <th>2</th>\n",
       "      <td>NaN</td>\n",
       "      <td>3</td>\n",
       "      <td>&lt;&lt; Facteurs de confusion &gt;&gt; dans les etudes ep...</td>\n",
       "      <td>Ducimetiere, P.</td>\n",
       "      <td>ASIC ASSOCIATION SCIENTIFIQUE INTERNATIONALE</td>\n",
       "      <td>1993</td>\n",
       "    </tr>\n",
       "    <tr>\n",
       "      <th>3</th>\n",
       "      <td>NaN</td>\n",
       "      <td>4</td>\n",
       "      <td>Impact of Heart Rate on Central Aortic Pressur...</td>\n",
       "      <td>Williams, B.; Lacy, P.S.; CAFE and the ASCOT (...</td>\n",
       "      <td>Elsevier Science</td>\n",
       "      <td>2009</td>\n",
       "    </tr>\n",
       "    <tr>\n",
       "      <th>4</th>\n",
       "      <td>NaN</td>\n",
       "      <td>5</td>\n",
       "      <td>Cafe&gt; Nostalgia  Corner Cafe&gt;s are a familiar ...</td>\n",
       "      <td>Welz, Adam</td>\n",
       "      <td>unknown</td>\n",
       "      <td>2000</td>\n",
       "    </tr>\n",
       "    <tr>\n",
       "      <th>5</th>\n",
       "      <td>NaN</td>\n",
       "      <td>6</td>\n",
       "      <td>Cafe&gt; Nostalgia  Corner Cafe&gt;s are a familiar ...</td>\n",
       "      <td>Welz, Adam</td>\n",
       "      <td>unknown</td>\n",
       "      <td>2000</td>\n",
       "    </tr>\n",
       "    <tr>\n",
       "      <th>6</th>\n",
       "      <td>NaN</td>\n",
       "      <td>7</td>\n",
       "      <td>CAFE PARADISE \"(Café Paradis)\"</td>\n",
       "      <td>UNKNOWN</td>\n",
       "      <td>British Film Institute.</td>\n",
       "      <td>1955</td>\n",
       "    </tr>\n",
       "    <tr>\n",
       "      <th>7</th>\n",
       "      <td>NaN</td>\n",
       "      <td>8</td>\n",
       "      <td>Cafe&gt; Nostalgia  Corner Cafe&gt;s are a familiar ...</td>\n",
       "      <td>Welz, Adam</td>\n",
       "      <td>unknown</td>\n",
       "      <td>2000</td>\n",
       "    </tr>\n",
       "    <tr>\n",
       "      <th>8</th>\n",
       "      <td>NaN</td>\n",
       "      <td>9</td>\n",
       "      <td>Cafe-Galerie Espai Cafe in Olot</td>\n",
       "      <td>MSB Estudi taller d arquitectura i disseny</td>\n",
       "      <td>INSTITUT FUER INTERNATIONALE</td>\n",
       "      <td>2012</td>\n",
       "    </tr>\n",
       "    <tr>\n",
       "      <th>9</th>\n",
       "      <td>NaN</td>\n",
       "      <td>10</td>\n",
       "      <td>Atomic Cafe? Symantec is lining up as the late...</td>\n",
       "      <td>unknown</td>\n",
       "      <td>unknown</td>\n",
       "      <td>1997</td>\n",
       "    </tr>\n",
       "  </tbody>\n",
       "</table>\n",
       "</div>"
      ],
      "text/plain": [
       "   Unnamed: 0  번호                                                 제목  \\\n",
       "0         NaN   1  Le gout de pomme de terre du cafe Arabica au B...   \n",
       "1         NaN   2  Piegeage de masse du scolyte du cafe Hypothene...   \n",
       "2         NaN   3  << Facteurs de confusion >> dans les etudes ep...   \n",
       "3         NaN   4  Impact of Heart Rate on Central Aortic Pressur...   \n",
       "4         NaN   5  Cafe> Nostalgia  Corner Cafe>s are a familiar ...   \n",
       "5         NaN   6  Cafe> Nostalgia  Corner Cafe>s are a familiar ...   \n",
       "6         NaN   7                    CAFE PARADISE \"(Café Paradis)\"   \n",
       "7         NaN   8  Cafe> Nostalgia  Corner Cafe>s are a familiar ...   \n",
       "8         NaN   9                    Cafe-Galerie Espai Cafe in Olot   \n",
       "9         NaN  10  Atomic Cafe? Symantec is lining up as the late...   \n",
       "\n",
       "                                                  저자  \\\n",
       "0                                        Bouyjou, B.   \n",
       "1                                         Dufour, B.   \n",
       "2                                    Ducimetiere, P.   \n",
       "3  Williams, B.; Lacy, P.S.; CAFE and the ASCOT (...   \n",
       "4                                         Welz, Adam   \n",
       "5                                         Welz, Adam   \n",
       "6                                            UNKNOWN   \n",
       "7                                         Welz, Adam   \n",
       "8         MSB Estudi taller d arquitectura i disseny   \n",
       "9                                            unknown   \n",
       "\n",
       "                                            출판사   출판일  \n",
       "0  ASIC ASSOCIATION SCIENTIFIQUE INTERNATIONALE  1993  \n",
       "1                                       unknown  1999  \n",
       "2  ASIC ASSOCIATION SCIENTIFIQUE INTERNATIONALE  1993  \n",
       "3                              Elsevier Science  2009  \n",
       "4                                       unknown  2000  \n",
       "5                                       unknown  2000  \n",
       "6                       British Film Institute.  1955  \n",
       "7                                       unknown  2000  \n",
       "8                  INSTITUT FUER INTERNATIONALE  2012  \n",
       "9                                       unknown  1997  "
      ]
     },
     "execution_count": 6,
     "metadata": {},
     "output_type": "execute_result"
    }
   ],
   "source": [
    "for file in all_files:\n",
    "    data_frame =pd.read_excel(file)\n",
    "    all_files_data.append(data_frame)\n",
    "all_files_data[0]"
   ]
  },
  {
   "cell_type": "code",
   "execution_count": 7,
   "id": "00a9e9a4-609c-4281-9669-95fadcb97161",
   "metadata": {
    "collapsed": true,
    "jupyter": {
     "outputs_hidden": true
    },
    "tags": []
   },
   "outputs": [
    {
     "data": {
      "text/html": [
       "<div>\n",
       "<style scoped>\n",
       "    .dataframe tbody tr th:only-of-type {\n",
       "        vertical-align: middle;\n",
       "    }\n",
       "\n",
       "    .dataframe tbody tr th {\n",
       "        vertical-align: top;\n",
       "    }\n",
       "\n",
       "    .dataframe thead th {\n",
       "        text-align: right;\n",
       "    }\n",
       "</style>\n",
       "<table border=\"1\" class=\"dataframe\">\n",
       "  <thead>\n",
       "    <tr style=\"text-align: right;\">\n",
       "      <th></th>\n",
       "      <th>Unnamed: 0</th>\n",
       "      <th>번호</th>\n",
       "      <th>제목</th>\n",
       "      <th>저자</th>\n",
       "      <th>출판사</th>\n",
       "      <th>출판일</th>\n",
       "    </tr>\n",
       "  </thead>\n",
       "  <tbody>\n",
       "    <tr>\n",
       "      <th>0</th>\n",
       "      <td>NaN</td>\n",
       "      <td>1</td>\n",
       "      <td>Le gout de pomme de terre du cafe Arabica au B...</td>\n",
       "      <td>Bouyjou, B.</td>\n",
       "      <td>ASIC ASSOCIATION SCIENTIFIQUE INTERNATIONALE</td>\n",
       "      <td>1993</td>\n",
       "    </tr>\n",
       "    <tr>\n",
       "      <th>1</th>\n",
       "      <td>NaN</td>\n",
       "      <td>2</td>\n",
       "      <td>Piegeage de masse du scolyte du cafe Hypothene...</td>\n",
       "      <td>Dufour, B.</td>\n",
       "      <td>unknown</td>\n",
       "      <td>1999</td>\n",
       "    </tr>\n",
       "    <tr>\n",
       "      <th>2</th>\n",
       "      <td>NaN</td>\n",
       "      <td>3</td>\n",
       "      <td>&lt;&lt; Facteurs de confusion &gt;&gt; dans les etudes ep...</td>\n",
       "      <td>Ducimetiere, P.</td>\n",
       "      <td>ASIC ASSOCIATION SCIENTIFIQUE INTERNATIONALE</td>\n",
       "      <td>1993</td>\n",
       "    </tr>\n",
       "    <tr>\n",
       "      <th>3</th>\n",
       "      <td>NaN</td>\n",
       "      <td>4</td>\n",
       "      <td>Impact of Heart Rate on Central Aortic Pressur...</td>\n",
       "      <td>Williams, B.; Lacy, P.S.; CAFE and the ASCOT (...</td>\n",
       "      <td>Elsevier Science</td>\n",
       "      <td>2009</td>\n",
       "    </tr>\n",
       "    <tr>\n",
       "      <th>4</th>\n",
       "      <td>NaN</td>\n",
       "      <td>5</td>\n",
       "      <td>Cafe&gt; Nostalgia  Corner Cafe&gt;s are a familiar ...</td>\n",
       "      <td>Welz, Adam</td>\n",
       "      <td>unknown</td>\n",
       "      <td>2000</td>\n",
       "    </tr>\n",
       "    <tr>\n",
       "      <th>...</th>\n",
       "      <td>...</td>\n",
       "      <td>...</td>\n",
       "      <td>...</td>\n",
       "      <td>...</td>\n",
       "      <td>...</td>\n",
       "      <td>...</td>\n",
       "    </tr>\n",
       "    <tr>\n",
       "      <th>95</th>\n",
       "      <td>NaN</td>\n",
       "      <td>6</td>\n",
       "      <td>Etude des changements chimiques dans le cafe s...</td>\n",
       "      <td>Severini, C.</td>\n",
       "      <td>ASIC ASSOCIATION SCIENTIFIQUE INTERNATIONALE</td>\n",
       "      <td>1993</td>\n",
       "    </tr>\n",
       "    <tr>\n",
       "      <th>96</th>\n",
       "      <td>NaN</td>\n",
       "      <td>7</td>\n",
       "      <td>Analisis por MEB de la porosidad del cafe tostado</td>\n",
       "      <td>Gutierrez, C.</td>\n",
       "      <td>ASIC ASSOCIATION SCIENTIFIQUE INTERNATIONALE</td>\n",
       "      <td>1993</td>\n",
       "    </tr>\n",
       "    <tr>\n",
       "      <th>97</th>\n",
       "      <td>NaN</td>\n",
       "      <td>8</td>\n",
       "      <td>Vers la diversification de la qualite du cafe ...</td>\n",
       "      <td>Rabemiafara, A.</td>\n",
       "      <td>ASIC ASSOCIATION SCIENTIFIQUE INTERNATIONALE</td>\n",
       "      <td>1997</td>\n",
       "    </tr>\n",
       "    <tr>\n",
       "      <th>98</th>\n",
       "      <td>NaN</td>\n",
       "      <td>9</td>\n",
       "      <td>Utilisation d'un piege a attractif kairomonal ...</td>\n",
       "      <td>Brun, L. O.</td>\n",
       "      <td>ASIC ASSOCIATION SCIENTIFIQUE INTERNATIONALE</td>\n",
       "      <td>1997</td>\n",
       "    </tr>\n",
       "    <tr>\n",
       "      <th>99</th>\n",
       "      <td>NaN</td>\n",
       "      <td>10</td>\n",
       "      <td>Traitement des eaux residuaires d'usines de tr...</td>\n",
       "      <td>Castillo, M.</td>\n",
       "      <td>ASIC ASSOCIATION SCIENTIFIQUE INTERNATIONALE</td>\n",
       "      <td>1993</td>\n",
       "    </tr>\n",
       "  </tbody>\n",
       "</table>\n",
       "<p>100 rows × 6 columns</p>\n",
       "</div>"
      ],
      "text/plain": [
       "    Unnamed: 0  번호                                                 제목  \\\n",
       "0          NaN   1  Le gout de pomme de terre du cafe Arabica au B...   \n",
       "1          NaN   2  Piegeage de masse du scolyte du cafe Hypothene...   \n",
       "2          NaN   3  << Facteurs de confusion >> dans les etudes ep...   \n",
       "3          NaN   4  Impact of Heart Rate on Central Aortic Pressur...   \n",
       "4          NaN   5  Cafe> Nostalgia  Corner Cafe>s are a familiar ...   \n",
       "..         ...  ..                                                ...   \n",
       "95         NaN   6  Etude des changements chimiques dans le cafe s...   \n",
       "96         NaN   7  Analisis por MEB de la porosidad del cafe tostado   \n",
       "97         NaN   8  Vers la diversification de la qualite du cafe ...   \n",
       "98         NaN   9  Utilisation d'un piege a attractif kairomonal ...   \n",
       "99         NaN  10  Traitement des eaux residuaires d'usines de tr...   \n",
       "\n",
       "                                                   저자  \\\n",
       "0                                         Bouyjou, B.   \n",
       "1                                          Dufour, B.   \n",
       "2                                     Ducimetiere, P.   \n",
       "3   Williams, B.; Lacy, P.S.; CAFE and the ASCOT (...   \n",
       "4                                          Welz, Adam   \n",
       "..                                                ...   \n",
       "95                                       Severini, C.   \n",
       "96                                      Gutierrez, C.   \n",
       "97                                    Rabemiafara, A.   \n",
       "98                                        Brun, L. O.   \n",
       "99                                       Castillo, M.   \n",
       "\n",
       "                                             출판사   출판일  \n",
       "0   ASIC ASSOCIATION SCIENTIFIQUE INTERNATIONALE  1993  \n",
       "1                                        unknown  1999  \n",
       "2   ASIC ASSOCIATION SCIENTIFIQUE INTERNATIONALE  1993  \n",
       "3                               Elsevier Science  2009  \n",
       "4                                        unknown  2000  \n",
       "..                                           ...   ...  \n",
       "95  ASIC ASSOCIATION SCIENTIFIQUE INTERNATIONALE  1993  \n",
       "96  ASIC ASSOCIATION SCIENTIFIQUE INTERNATIONALE  1993  \n",
       "97  ASIC ASSOCIATION SCIENTIFIQUE INTERNATIONALE  1997  \n",
       "98  ASIC ASSOCIATION SCIENTIFIQUE INTERNATIONALE  1997  \n",
       "99  ASIC ASSOCIATION SCIENTIFIQUE INTERNATIONALE  1993  \n",
       "\n",
       "[100 rows x 6 columns]"
      ]
     },
     "execution_count": 7,
     "metadata": {},
     "output_type": "execute_result"
    }
   ],
   "source": [
    "all_files_data_concat=pd.concat(all_files_data,axis=0,ignore_index=True)\n",
    "all_files_data_concat"
   ]
  },
  {
   "cell_type": "code",
   "execution_count": 8,
   "id": "ef084746-0bde-4c7a-83f8-72cdda5c3766",
   "metadata": {
    "collapsed": true,
    "jupyter": {
     "outputs_hidden": true
    },
    "tags": []
   },
   "outputs": [
    {
     "data": {
      "text/plain": [
       "0     Le gout de pomme de terre du cafe Arabica au B...\n",
       "1     Piegeage de masse du scolyte du cafe Hypothene...\n",
       "2     << Facteurs de confusion >> dans les etudes ep...\n",
       "3     Impact of Heart Rate on Central Aortic Pressur...\n",
       "4     Cafe> Nostalgia  Corner Cafe>s are a familiar ...\n",
       "                            ...                        \n",
       "95    Etude des changements chimiques dans le cafe s...\n",
       "96    Analisis por MEB de la porosidad del cafe tostado\n",
       "97    Vers la diversification de la qualite du cafe ...\n",
       "98    Utilisation d'un piege a attractif kairomonal ...\n",
       "99    Traitement des eaux residuaires d'usines de tr...\n",
       "Name: 제목, Length: 100, dtype: object"
      ]
     },
     "execution_count": 8,
     "metadata": {},
     "output_type": "execute_result"
    }
   ],
   "source": [
    "all_title = all_files_data_concat['제목']\n",
    "all_title"
   ]
  },
  {
   "cell_type": "code",
   "execution_count": 9,
   "id": "d9b7e4ec-73ea-42cd-83af-5a4643bd11c3",
   "metadata": {},
   "outputs": [],
   "source": [
    "stopWords= set(stopwords.words('english'))\n",
    "lemma= WordNetLemmatizer()"
   ]
  },
  {
   "cell_type": "code",
   "execution_count": 10,
   "id": "14ec5b0f-87c2-47b7-90dd-75a88f9be414",
   "metadata": {
    "tags": []
   },
   "outputs": [],
   "source": [
    "words= []\n",
    "for title in all_title:\n",
    "    # print(title)\n",
    "    EnWords =re.sub(r\"[^a-zA-Z]+\",\" \",str(title)) # [^a-zA-Z] 소문자부터 대문자까지 다포함해라\n",
    "    # print(EnWords)\n",
    "    EnWordsToken = word_tokenize(EnWords.lower()) # 여기서 word_tokenize로 리스트가 되기때문에 밑에도 리스트를해줘야한다.\n",
    "    # print(EnWordsToken)\n",
    "    EnWordsTokenStop = [w for w in EnWordsToken if w not in stopWords] # 이름이 없는 함수 익명함수,클로저\n",
    "    # print(EnWordsTokenStop)\n",
    "    EnWordsTokenStopLemma= [lemma.lemmatize(w) for w in EnWordsTokenStop]\n",
    "    # print(EnWordsTokenStopLemma)\n",
    "    words.append(EnWordsTokenStopLemma)"
   ]
  },
  {
   "cell_type": "code",
   "execution_count": 11,
   "id": "708cac79-2c28-45a7-b551-62d76c4fbecb",
   "metadata": {},
   "outputs": [],
   "source": [
    "words2 =reduce(lambda x, y:x+y, words) # reduce함수는 누적시켜주는역활 "
   ]
  },
  {
   "cell_type": "code",
   "execution_count": 12,
   "id": "95f18fd8-e21a-4acc-b83a-df9373e4759a",
   "metadata": {},
   "outputs": [],
   "source": [
    "count =Counter(words2)"
   ]
  },
  {
   "cell_type": "code",
   "execution_count": 13,
   "id": "7393aaef-d05b-4fe1-ac0a-5c9de2fb8fef",
   "metadata": {
    "tags": []
   },
   "outputs": [
    {
     "data": {
      "text/plain": [
       "[('cafe', 112),\n",
       " ('de', 28),\n",
       " ('du', 14),\n",
       " ('la', 13),\n",
       " ('au', 12),\n",
       " ('le', 11),\n",
       " ('lait', 10),\n",
       " ('dans', 5),\n",
       " ('macule', 5),\n",
       " ('tool', 5)]"
      ]
     },
     "execution_count": 13,
     "metadata": {},
     "output_type": "execute_result"
    }
   ],
   "source": [
    "count.most_common(10)"
   ]
  },
  {
   "cell_type": "code",
   "execution_count": 17,
   "id": "b3ad7bd4-563f-4491-be4d-240e6d720ef3",
   "metadata": {},
   "outputs": [
    {
     "name": "stdout",
     "output_type": "stream",
     "text": [
      "{'cafe': 112, 'lait': 10, 'dans': 5, 'macule': 5, 'tool': 5, 'environment': 5, 'package': 4, 'application': 4, 'china': 4, 'sur': 3, 'impact': 3, 'pressure': 3, 'analysis': 3, 'study': 3, 'nostalgia': 3, 'corner': 3, 'familiar': 3, 'sight': 3, 'every': 3, 'south': 3, 'african': 3, 'town': 3, 'city': 3, 'soon': 3, 'may': 3, 'memory': 3, 'photographic': 3, 'essay': 3, 'document': 3, 'disappear': 3, 'entirely': 3, 'magnetic': 3, 'spot': 3, 'gene': 3, 'computational': 3, 'fire': 3, 'solar': 3, 'energy': 3, 'based': 3, 'cloud': 3, 'pour': 3}\n"
     ]
    }
   ],
   "source": [
    "word_count = dict()\n",
    "\n",
    "for tag, counts in count.most_common(50): # 튜블이기때문에 키 벨류가있어서 tag 를써서 불러온다.\n",
    "    if(len(str(tag))>2): # 데그에 길이체크 한글자 같은거 거를려고\n",
    "        word_count[tag] = counts\n",
    "print(word_count)"
   ]
  },
  {
   "cell_type": "code",
   "execution_count": 18,
   "id": "9302677e-cf64-4ec5-9d27-7cbdf3272951",
   "metadata": {},
   "outputs": [],
   "source": [
    "del word_count['cafe']"
   ]
  },
  {
   "cell_type": "code",
   "execution_count": 19,
   "id": "ea8a8354-b9fe-4b86-b751-3c437ee19868",
   "metadata": {},
   "outputs": [],
   "source": [
    "key_list = list(word_count.keys())\n",
    "sorted_keys_list =sorted(key_list)"
   ]
  },
  {
   "cell_type": "code",
   "execution_count": 20,
   "id": "cbb1acdc-55ad-4adf-8bd8-d87f848f6511",
   "metadata": {},
   "outputs": [
    {
     "data": {
      "image/png": "[encoded data removed]",
      "text/plain": [
       "<Figure size 864x360 with 1 Axes>"
      ]
     },
     "metadata": {
      "needs_background": "light"
     },
     "output_type": "display_data"
    }
   ],
   "source": [
    "plt.figure(figsize=(12,5))\n",
    "plt.xlabel('word')\n",
    "plt.ylabel('count')\n",
    "plt.grid(True)\n",
    "\n",
    "sorted_keys =sorted_keys_list\n",
    "sorted_values = sorted(word_count.values(),reverse=True)\n",
    "plt.bar(range(len(word_count)),sorted_values,align='center')\n",
    "plt.xticks(range(len(word_count)),list(sorted_keys) ,rotation='85')\n",
    "plt.show()"
   ]
  }
 ],
 "metadata": {
  "kernelspec": {
   "display_name": "Python 3 (ipykernel)",
   "language": "python",
   "name": "python3"
  },
  "language_info": {
   "codemirror_mode": {
    "name": "ipython",
    "version": 3
   },
   "file_extension": ".py",
   "mimetype": "text/x-python",
   "name": "python",
   "nbconvert_exporter": "python",
   "pygments_lexer": "ipython3",
   "version": "3.9.7"
  }
 },
 "nbformat": 4,
 "nbformat_minor": 5
}
