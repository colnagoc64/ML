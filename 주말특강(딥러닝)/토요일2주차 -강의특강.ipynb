{
 "cells": [
  {
   "cell_type": "code",
   "execution_count": 4,
   "id": "ae855f18",
   "metadata": {},
   "outputs": [],
   "source": [
    "def km_miles():\n",
    "\n",
    "    km = float(input('Enter distance in kilometers: '))\n",
    "\n",
    "    miles = km / 1.609                                            #1마일 = 1.609km\n",
    "\n",
    "\n",
    "\n",
    "    print('Distance in miles: {0}'.format(miles))"
   ]
  },
  {
   "cell_type": "code",
   "execution_count": 6,
   "id": "a20c2fd8",
   "metadata": {},
   "outputs": [
    {
     "name": "stdout",
     "output_type": "stream",
     "text": [
      "Enter distance in kilometers: 100\n",
      "Distance in miles: 62.15040397762586\n"
     ]
    }
   ],
   "source": [
    "km_miles()"
   ]
  },
  {
   "cell_type": "code",
   "execution_count": 7,
   "id": "3ac40924",
   "metadata": {},
   "outputs": [
    {
     "name": "stdout",
     "output_type": "stream",
     "text": [
      "Collecting imutils\n",
      "  Downloading imutils-0.5.4.tar.gz (17 kB)\n",
      "Collecting opencv-python\n",
      "  Downloading opencv_python-4.5.4.58-cp38-cp38-win_amd64.whl (35.1 MB)\n",
      "Requirement already satisfied: scikit-image in c:\\users\\ki\\anaconda3\\lib\\site-packages (0.18.1)\n",
      "Requirement already satisfied: numpy>=1.17.3 in c:\\users\\ki\\anaconda3\\lib\\site-packages (from opencv-python) (1.20.1)\n",
      "Requirement already satisfied: scipy>=1.0.1 in c:\\users\\ki\\anaconda3\\lib\\site-packages (from scikit-image) (1.6.2)\n",
      "Requirement already satisfied: matplotlib!=3.0.0,>=2.0.0 in c:\\users\\ki\\anaconda3\\lib\\site-packages (from scikit-image) (3.3.4)\n",
      "Requirement already satisfied: networkx>=2.0 in c:\\users\\ki\\anaconda3\\lib\\site-packages (from scikit-image) (2.5)\n",
      "Requirement already satisfied: pillow!=7.1.0,!=7.1.1,>=4.3.0 in c:\\users\\ki\\anaconda3\\lib\\site-packages (from scikit-image) (8.2.0)\n",
      "Requirement already satisfied: imageio>=2.3.0 in c:\\users\\ki\\anaconda3\\lib\\site-packages (from scikit-image) (2.9.0)\n",
      "Requirement already satisfied: tifffile>=2019.7.26 in c:\\users\\ki\\anaconda3\\lib\\site-packages (from scikit-image) (2021.4.8)\n",
      "Requirement already satisfied: PyWavelets>=1.1.1 in c:\\users\\ki\\anaconda3\\lib\\site-packages (from scikit-image) (1.1.1)\n",
      "Requirement already satisfied: pyparsing!=2.0.4,!=2.1.2,!=2.1.6,>=2.0.3 in c:\\users\\ki\\anaconda3\\lib\\site-packages (from matplotlib!=3.0.0,>=2.0.0->scikit-image) (2.4.7)\n",
      "Requirement already satisfied: cycler>=0.10 in c:\\users\\ki\\anaconda3\\lib\\site-packages (from matplotlib!=3.0.0,>=2.0.0->scikit-image) (0.10.0)\n",
      "Requirement already satisfied: python-dateutil>=2.1 in c:\\users\\ki\\anaconda3\\lib\\site-packages (from matplotlib!=3.0.0,>=2.0.0->scikit-image) (2.8.1)\n",
      "Requirement already satisfied: kiwisolver>=1.0.1 in c:\\users\\ki\\anaconda3\\lib\\site-packages (from matplotlib!=3.0.0,>=2.0.0->scikit-image) (1.3.1)\n",
      "Requirement already satisfied: six in c:\\users\\ki\\anaconda3\\lib\\site-packages (from cycler>=0.10->matplotlib!=3.0.0,>=2.0.0->scikit-image) (1.15.0)\n",
      "Requirement already satisfied: decorator>=4.3.0 in c:\\users\\ki\\anaconda3\\lib\\site-packages (from networkx>=2.0->scikit-image) (5.0.6)\n",
      "Building wheels for collected packages: imutils\n",
      "  Building wheel for imutils (setup.py): started\n",
      "  Building wheel for imutils (setup.py): finished with status 'done'\n",
      "  Created wheel for imutils: filename=imutils-0.5.4-py3-none-any.whl size=25860 sha256=c65f7c3d485c13e0a71706540a6e7266750ff18e831bfc06ea0f4b955c8613ee\n",
      "  Stored in directory: c:\\users\\ki\\appdata\\local\\pip\\cache\\wheels\\59\\1b\\52\\0dea905f8278d5514dc4d0be5e251967f8681670cadd3dca89\n",
      "Successfully built imutils\n",
      "Installing collected packages: opencv-python, imutils\n",
      "Successfully installed imutils-0.5.4 opencv-python-4.5.4.58\n"
     ]
    }
   ],
   "source": [
    "!pip install imutils opencv-python scikit-image"
   ]
  },
  {
   "cell_type": "code",
   "execution_count": 9,
   "id": "a2843a67",
   "metadata": {},
   "outputs": [],
   "source": [
    "from skimage.metrics import structural_similarity as compare_ssim\n",
    "import imutils\n",
    "import cv2\n",
    "import argparse"
   ]
  },
  {
   "cell_type": "code",
   "execution_count": 11,
   "id": "43825e82",
   "metadata": {},
   "outputs": [
    {
     "name": "stderr",
     "output_type": "stream",
     "text": [
      "usage: ipykernel_launcher.py [-h] original modified\n",
      "ipykernel_launcher.py: error: the following arguments are required: modified\n"
     ]
    },
    {
     "ename": "SystemExit",
     "evalue": "2",
     "output_type": "error",
     "traceback": [
      "An exception has occurred, use %tb to see the full traceback.\n",
      "\u001b[1;31mSystemExit\u001b[0m\u001b[1;31m:\u001b[0m 2\n"
     ]
    },
    {
     "name": "stderr",
     "output_type": "stream",
     "text": [
      "C:\\Users\\KI\\anaconda3\\lib\\site-packages\\IPython\\core\\interactiveshell.py:3445: UserWarning: To exit: use 'exit', 'quit', or Ctrl-D.\n",
      "  warn(\"To exit: use 'exit', 'quit', or Ctrl-D.\", stacklevel=1)\n"
     ]
    }
   ],
   "source": [
    "#이미지 크기 맞춤\n",
    "def parse_args():\n",
    "    parser = argparse.ArgumentParser()\n",
    "    parser.add_argument(\"original\")\n",
    "    parser.add_argument(\"modified\")\n",
    "    return parser.parse_args()\n",
    "\n",
    "\n",
    "def main():\n",
    "    args = parse_args()\n",
    "    imageA = cv2.imread(args.original)\n",
    "    imageB = cv2.imread(args.modified)\n",
    "    # if needed resize images using cv2.resize()\n",
    "    # cv2.imshow(\"Original\", imageA)\n",
    "    # cv2.imshow(\"Modified\", imageB)\n",
    "    # cv2.waitKey(0)\n",
    "    grayA = cv2.cvtColor(imageA, cv2.COLOR_BGR2GRAY)\n",
    "    grayB = cv2.cvtColor(imageB, cv2.COLOR_BGR2GRAY)\n",
    "    (score, diff) = compare_ssim(grayA, grayB, full=True)\n",
    "    diff = (diff * 255).astype(\"uint8\")\n",
    "    print(f\"SSIM: {score}\")\n",
    "    thresh = cv2.threshold(\n",
    "                 diff, 0, 200, \n",
    "                 cv2.THRESH_BINARY_INV | cv2.THRESH_OTSU\n",
    "             )[1]\n",
    "    cnts, _ = cv2.findContours(\n",
    "                thresh, \n",
    "                cv2.RETR_EXTERNAL, \n",
    "                cv2.CHAIN_APPROX_SIMPLE\n",
    "              )\n",
    "    for c in cnts:\n",
    "        area = cv2.contourArea(c)\n",
    "        if area > 40:\n",
    "            x, y, w, h = cv2.boundingRect(c)\n",
    "            cv2.rectangle(imageA, (x, y), (x + w, y + h), (0, 0, 255), 2)\n",
    "            cv2.drawContour(imageB, [c], -1, (0, 0, 255), 2)\n",
    "    cv2.imshow(\"Original\", imageA)\n",
    "    cv2.imshow(\"Modified\", imageB)\n",
    "    cv2.waitKey(0)\n",
    "\n",
    "\n",
    "if __name__ == \"__main__\":\n",
    "    main()"
   ]
  },
  {
   "cell_type": "code",
   "execution_count": null,
   "id": "72bdbbb4",
   "metadata": {},
   "outputs": [],
   "source": []
  }
 ],
 "metadata": {
  "kernelspec": {
   "display_name": "Python 3",
   "language": "python",
   "name": "python3"
  },
  "language_info": {
   "codemirror_mode": {
    "name": "ipython",
    "version": 3
   },
   "file_extension": ".py",
   "mimetype": "text/x-python",
   "name": "python",
   "nbconvert_exporter": "python",
   "pygments_lexer": "ipython3",
   "version": "3.8.8"
  }
 },
 "nbformat": 4,
 "nbformat_minor": 5
}
