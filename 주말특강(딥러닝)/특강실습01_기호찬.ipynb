{
 "cells": [
  {
   "cell_type": "markdown",
   "id": "65dd3249",
   "metadata": {},
   "source": [
    "# A= 1 * 1000 형렬 Z =1000*1 행렬 두 행렬의 곱과 합을 표현 하시오"
   ]
  },
  {
   "cell_type": "code",
   "execution_count": 108,
   "id": "45acd148",
   "metadata": {},
   "outputs": [],
   "source": [
    "import numpy as np\n",
    "import random\n",
    "import time\n",
    "from scipy import special"
   ]
  },
  {
   "cell_type": "code",
   "execution_count": 51,
   "id": "20d8b980",
   "metadata": {},
   "outputs": [
    {
     "name": "stdout",
     "output_type": "stream",
     "text": [
      "1000 1000\n"
     ]
    }
   ],
   "source": [
    "# 일반 for 문돌려서 만드는거 행렬이기떄문에 [안에 for 문]\n",
    "z=[random.random() for i in range(0,1000)]\n",
    "x=[random.random() for i in range(0,1000)]\n",
    "print(len(x),len(z))"
   ]
  },
  {
   "cell_type": "code",
   "execution_count": 52,
   "id": "b3e74bd4",
   "metadata": {},
   "outputs": [
    {
     "name": "stdout",
     "output_type": "stream",
     "text": [
      "243.0994833513487\n",
      "0.0009958744049072266\n"
     ]
    }
   ],
   "source": [
    "start = time.time()  \n",
    "\n",
    "sum = 0\n",
    "for i in range(0,len(z)): # lne(z) 길이만큼 포문 돌려주는거 그래서 len  쓴다\n",
    "    sum =sum + (z[i] * x[i])\n",
    "\n",
    "end = time.time()\n",
    "duration= end - start # 코드 돌리는데 걸리는 시간 계산\n",
    "\n",
    "print(sum)\n",
    "print(duration)"
   ]
  },
  {
   "cell_type": "code",
   "execution_count": 26,
   "id": "168c36a0",
   "metadata": {},
   "outputs": [
    {
     "name": "stdout",
     "output_type": "stream",
     "text": [
      "(1, 1000) (1, 1000)\n"
     ]
    }
   ],
   "source": [
    "# numpy로 만드는 방법\n",
    "z=np.random.rand(1,1000)\n",
    "x=np.random.rand(1,1000)\n",
    "print(z.shape,x.shape)"
   ]
  },
  {
   "cell_type": "code",
   "execution_count": 54,
   "id": "8efda151",
   "metadata": {},
   "outputs": [
    {
     "ename": "TypeError",
     "evalue": "can only concatenate str (not \"float\") to str",
     "output_type": "error",
     "traceback": [
      "\u001b[1;31m---------------------------------------------------------------------------\u001b[0m",
      "\u001b[1;31mTypeError\u001b[0m                                 Traceback (most recent call last)",
      "\u001b[1;32m<ipython-input-54-b90fa4b4b666>\u001b[0m in \u001b[0;36m<module>\u001b[1;34m\u001b[0m\n\u001b[0;32m      6\u001b[0m \u001b[0mduration\u001b[0m\u001b[1;33m=\u001b[0m \u001b[0mend\u001b[0m \u001b[1;33m-\u001b[0m \u001b[0mstart\u001b[0m \u001b[1;31m# 코드 돌리는데 걸리는 시간 계산\u001b[0m\u001b[1;33m\u001b[0m\u001b[1;33m\u001b[0m\u001b[0m\n\u001b[0;32m      7\u001b[0m \u001b[1;33m\u001b[0m\u001b[0m\n\u001b[1;32m----> 8\u001b[1;33m \u001b[0mprint\u001b[0m\u001b[1;33m(\u001b[0m\u001b[1;34m'vectorized version:'\u001b[0m \u001b[1;33m+\u001b[0m \u001b[1;33m(\u001b[0m\u001b[0mduration\u001b[0m\u001b[1;33m)\u001b[0m \u001b[1;33m+\u001b[0m\u001b[1;34m'ms'\u001b[0m\u001b[1;33m)\u001b[0m\u001b[1;33m\u001b[0m\u001b[1;33m\u001b[0m\u001b[0m\n\u001b[0m",
      "\u001b[1;31mTypeError\u001b[0m: can only concatenate str (not \"float\") to str"
     ]
    }
   ],
   "source": [
    "start = time.time()  \n",
    "\n",
    "c=np.dot(x,z)\n",
    "\n",
    "end = time.time()\n",
    "duration= end - start # 코드 돌리는데 걸리는 시간 계산\n",
    "\n",
    "print('vectorized version:' + duration +'ms')"
   ]
  },
  {
   "cell_type": "code",
   "execution_count": 57,
   "id": "062c07d7",
   "metadata": {},
   "outputs": [
    {
     "name": "stdout",
     "output_type": "stream",
     "text": [
      "vectorized version:0.9977817535400391ms\n"
     ]
    },
    {
     "data": {
      "text/plain": [
       "249600.92973022407"
      ]
     },
     "execution_count": 57,
     "metadata": {},
     "output_type": "execute_result"
    }
   ],
   "source": [
    "a=np.random.rand(1000000)\n",
    "b=np.random.rand(1000000)\n",
    "\n",
    "tic=time.time()\n",
    "c = np.dot(a,b)\n",
    "toc=time.time()\n",
    "\n",
    "print('vectorized version:' + str(1000*(toc-tic))+ 'ms')"
   ]
  },
  {
   "cell_type": "code",
   "execution_count": 63,
   "id": "442a7eb5",
   "metadata": {},
   "outputs": [
    {
     "name": "stdout",
     "output_type": "stream",
     "text": [
      "for loop:485.75615882873535ms\n"
     ]
    }
   ],
   "source": [
    "c=0\n",
    "tic=time.time()\n",
    "for i in range(1000000):\n",
    "    c += a[i]*b[i]\n",
    "toc = time.time()\n",
    "print('for loop:'+ str(1000*(toc-tic))+ 'ms')"
   ]
  },
  {
   "cell_type": "code",
   "execution_count": null,
   "id": "a5a5f1c1",
   "metadata": {},
   "outputs": [],
   "source": [
    "# =\t왼쪽 변수에 오른쪽 값을 할당한다\tc = a + b → c = a + b\n",
    "# +=\t왼쪽 변수에 오른쪽 값을 더하고 결과를 왼쪽변수에 할당\tc += a → c = c + a\n",
    "# -=\t왼쪽 변수에서 오른쪽 값을 빼고 결과를 왼쪽변수에 할당\tc -= a → c = c - a\n",
    "# *=\t왼쪽 변수에 오른쪽 값을 곱하고 결과를 왼쪽변수에 할당\tc *= a → c = c * a\n",
    "# /=\t왼쪽 변수에서 오른쪽 값을 나누고 결과를 왼쪽변수에 할당\tc /= a → c = c / a\n",
    "# %=\t왼쪽 변수에서 오른쪽 값을 나눈 나머지의 결과를 왼쪽변수에 할당\tc %= a → c = c % a\n",
    "# **=\t왼쪽 변수에 오른쪽 값만큼 제곱을 하고 결과를 왼쪽변수에 할당\tc **= a → c = c ** a\n",
    "# /=\t왼쪽 변수에서 오른쪽 값을 나눈 몫의 결과를 왼쪽변수에 할당\tc //= a → c = c // a"
   ]
  },
  {
   "cell_type": "code",
   "execution_count": null,
   "id": "05435217",
   "metadata": {},
   "outputs": [],
   "source": [
    "# 되도록이면 for 문을 사용하지말고\n",
    "# 다른 코드를 활용해서 하는게 속도도빠르고 훨씬 깔끔하다"
   ]
  },
  {
   "cell_type": "markdown",
   "id": "e3fac053",
   "metadata": {},
   "source": [
    "# 신경망 만들기"
   ]
  },
  {
   "cell_type": "markdown",
   "id": "3213ab3e",
   "metadata": {},
   "source": [
    "step 1. 기본클래스 만들기\n",
    "-구조정의\n",
    "-학습\n",
    "-추론"
   ]
  },
  {
   "cell_type": "code",
   "execution_count": 125,
   "id": "5c80ab89",
   "metadata": {},
   "outputs": [
    {
     "ename": "SyntaxError",
     "evalue": "invalid syntax (<ipython-input-125-635cc0c6cf3a>, line 34)",
     "output_type": "error",
     "traceback": [
      "\u001b[1;36m  File \u001b[1;32m\"<ipython-input-125-635cc0c6cf3a>\"\u001b[1;36m, line \u001b[1;32m34\u001b[0m\n\u001b[1;33m    targets = np.array(targer_list , ndmin=2).T\u001b[0m\n\u001b[1;37m    ^\u001b[0m\n\u001b[1;31mSyntaxError\u001b[0m\u001b[1;31m:\u001b[0m invalid syntax\n"
     ]
    }
   ],
   "source": [
    "class MyNeuralNet :\n",
    "    def __init__(self, inputnodes, hiddennodes, outputnodes, learningrate):\n",
    "        # 입력 , 은닉 ,출력 ,계층의 노드 개수 설정\n",
    "        self.innode = inputnodes\n",
    "        self.hnode = hiddennodes\n",
    "        self.outnode = outputnodes\n",
    "        \n",
    "        # 학습률\n",
    "        self.lr = learningrate\n",
    "        \n",
    "        self.wih = (np.random.rand(self.hnode, self.innode) - 0.5)\n",
    "        self.who = (np.random.rand(self.outnode, self.hnode) - 0.5)\n",
    "        \n",
    "        pass\n",
    "    \n",
    "    def printWeight(self):\n",
    "        print(self.wih.shape, self.wih)\n",
    "        print(self.who.shape, self.who)\n",
    "    \n",
    "    # forward and backward\n",
    "    def train(self, input_list, target_list):\n",
    "        \n",
    "        input = np.array(input_list, ndmin=2).T # 2차원으로 바꿔준다음에 transpose\n",
    "        \n",
    "        # input ->hidden\n",
    "        hidden_input = np.dot(self.wih,input)\n",
    "        hidden_output = scipy.special.expit(hidden_input)\n",
    "        \n",
    "        #h hidden -> output\n",
    "        output_hidden = np.dot(self.who, hidden_output)\n",
    "        final_output = scipy.special.expit(output_hidden\n",
    "                                           \n",
    "        # Get Error\n",
    "        targets = np.array(targer_list , ndmin=2).T\n",
    "        \n",
    "        output_error = targets -final_outputs\n",
    "        hidden_error = np.dot(self.who.T, output_error)\n",
    "         \n",
    "        # Update weight                                   \n",
    "        self.who += self.lr * \\\n",
    "                            np.dot((output_error * final_output) * (1.0 -final_output), \\\n",
    "                            \n",
    "                            np.transpose(hiddden_output))\n",
    "        self.wih += self.lr * \\\n",
    "                            np.dot((output_error * final_output) * (1.0 -final_output), \\\n",
    "                            \n",
    "                            np.transpose(input))\n",
    "                                           \n",
    "    # forward\n",
    "    def inference(self, input_list):\n",
    "        input = np.array(input_list, ndmin=2).T # 2차원으로 바꿔준다음에 transpose\n",
    "        \n",
    "        # input ->hidden\n",
    "        hidden_input = np.dot(self.wih,input)\n",
    "        hidden_output = scipy.special.expit(hidden_input)\n",
    "        \n",
    "        #h hidden -> output\n",
    "        output_hidden = np.dot(self.who, hidden_output)\n",
    "        final_output = scipy.special.expit(output_hidden)\n",
    "        \n",
    "        return hidden_output\n",
    "    "
   ]
  },
  {
   "cell_type": "code",
   "execution_count": 116,
   "id": "a4bef17b",
   "metadata": {},
   "outputs": [
    {
     "name": "stdout",
     "output_type": "stream",
     "text": [
      "(4, 3) [[ 0.32173243 -0.36632318  0.33820844]\n",
      " [-0.03987683 -0.36200617  0.36190651]\n",
      " [ 0.2566341   0.1498939  -0.27339238]\n",
      " [ 0.03492773  0.29592769 -0.01971328]]\n",
      "(3, 4) [[-0.34758431 -0.37021262 -0.38778832  0.40401703]\n",
      " [-0.48565159  0.10054464  0.06515091 -0.38719409]\n",
      " [-0.49645688  0.05794473 -0.02413174 -0.38246685]]\n"
     ]
    }
   ],
   "source": [
    "net = MyNeuralNet(3, 4, 3 , 0.5)\n",
    "net.printWeight()"
   ]
  },
  {
   "cell_type": "code",
   "execution_count": 124,
   "id": "6b3e8e2a",
   "metadata": {},
   "outputs": [
    {
     "ename": "NameError",
     "evalue": "name 'scipy' is not defined",
     "output_type": "error",
     "traceback": [
      "\u001b[1;31m---------------------------------------------------------------------------\u001b[0m",
      "\u001b[1;31mNameError\u001b[0m                                 Traceback (most recent call last)",
      "\u001b[1;32m<ipython-input-124-e1ec9fb3d90f>\u001b[0m in \u001b[0;36m<module>\u001b[1;34m\u001b[0m\n\u001b[0;32m      1\u001b[0m \u001b[0mnet\u001b[0m \u001b[1;33m=\u001b[0m \u001b[0mMyNeuralNet\u001b[0m\u001b[1;33m(\u001b[0m\u001b[1;36m3\u001b[0m\u001b[1;33m,\u001b[0m \u001b[1;36m3\u001b[0m\u001b[1;33m,\u001b[0m \u001b[1;36m3\u001b[0m \u001b[1;33m,\u001b[0m \u001b[1;36m0.5\u001b[0m\u001b[1;33m)\u001b[0m\u001b[1;33m\u001b[0m\u001b[1;33m\u001b[0m\u001b[0m\n\u001b[1;32m----> 2\u001b[1;33m \u001b[0mnet\u001b[0m\u001b[1;33m.\u001b[0m\u001b[0minference\u001b[0m\u001b[1;33m(\u001b[0m\u001b[1;33m[\u001b[0m\u001b[1;36m10\u001b[0m\u001b[1;33m,\u001b[0m\u001b[1;36m20\u001b[0m\u001b[1;33m,\u001b[0m\u001b[1;36m40\u001b[0m\u001b[1;33m]\u001b[0m\u001b[1;33m)\u001b[0m\u001b[1;33m\u001b[0m\u001b[1;33m\u001b[0m\u001b[0m\n\u001b[0m",
      "\u001b[1;32m<ipython-input-115-6de2cc3b8463>\u001b[0m in \u001b[0;36minference\u001b[1;34m(self, input_list)\u001b[0m\n\u001b[0;32m     39\u001b[0m         \u001b[1;31m# input ->hidden\u001b[0m\u001b[1;33m\u001b[0m\u001b[1;33m\u001b[0m\u001b[1;33m\u001b[0m\u001b[0m\n\u001b[0;32m     40\u001b[0m         \u001b[0mhidden_input\u001b[0m \u001b[1;33m=\u001b[0m \u001b[0mnp\u001b[0m\u001b[1;33m.\u001b[0m\u001b[0mdot\u001b[0m\u001b[1;33m(\u001b[0m\u001b[0mself\u001b[0m\u001b[1;33m.\u001b[0m\u001b[0mwih\u001b[0m\u001b[1;33m,\u001b[0m\u001b[0minput\u001b[0m\u001b[1;33m)\u001b[0m\u001b[1;33m\u001b[0m\u001b[1;33m\u001b[0m\u001b[0m\n\u001b[1;32m---> 41\u001b[1;33m         \u001b[0mhidden_output\u001b[0m \u001b[1;33m=\u001b[0m \u001b[0mscipy\u001b[0m\u001b[1;33m.\u001b[0m\u001b[0mspecial\u001b[0m\u001b[1;33m.\u001b[0m\u001b[0mexpit\u001b[0m\u001b[1;33m(\u001b[0m\u001b[0mhidden_input\u001b[0m\u001b[1;33m)\u001b[0m\u001b[1;33m\u001b[0m\u001b[1;33m\u001b[0m\u001b[0m\n\u001b[0m\u001b[0;32m     42\u001b[0m \u001b[1;33m\u001b[0m\u001b[0m\n\u001b[0;32m     43\u001b[0m         \u001b[1;31m#h hidden -> output\u001b[0m\u001b[1;33m\u001b[0m\u001b[1;33m\u001b[0m\u001b[1;33m\u001b[0m\u001b[0m\n",
      "\u001b[1;31mNameError\u001b[0m: name 'scipy' is not defined"
     ]
    }
   ],
   "source": [
    "net = MyNeuralNet(3, 3, 3 , 0.5)\n",
    "net.inference([10,20,40])"
   ]
  },
  {
   "cell_type": "code",
   "execution_count": null,
   "id": "a7061dec",
   "metadata": {},
   "outputs": [],
   "source": [
    "net = MyNeuralNet(3, 3, 3 , 0.5)\n",
    "net.train([10, 20, 30, 40],[0.5,v0.2, 0.1])"
   ]
  }
 ],
 "metadata": {
  "kernelspec": {
   "display_name": "Python 3",
   "language": "python",
   "name": "python3"
  },
  "language_info": {
   "codemirror_mode": {
    "name": "ipython",
    "version": 3
   },
   "file_extension": ".py",
   "mimetype": "text/x-python",
   "name": "python",
   "nbconvert_exporter": "python",
   "pygments_lexer": "ipython3",
   "version": "3.8.8"
  },
  "toc": {
   "base_numbering": 1,
   "nav_menu": {},
   "number_sections": true,
   "sideBar": true,
   "skip_h1_title": false,
   "title_cell": "Table of Contents",
   "title_sidebar": "Contents",
   "toc_cell": false,
   "toc_position": {},
   "toc_section_display": true,
   "toc_window_display": false
  }
 },
 "nbformat": 4,
 "nbformat_minor": 5
}
