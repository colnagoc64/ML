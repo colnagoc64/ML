{
 "cells": [
  {
   "cell_type": "code",
   "execution_count": 8,
   "id": "57bae7f6",
   "metadata": {},
   "outputs": [],
   "source": [
    "from PIL import Image\n",
    "from PIL import ImageChops"
   ]
  },
  {
   "cell_type": "code",
   "execution_count": 13,
   "id": "9094bedb",
   "metadata": {},
   "outputs": [],
   "source": [
    "image_one = Image.open('image.jfif')\n",
    "image_two= Image.open('image.jfif')"
   ]
  },
  {
   "cell_type": "code",
   "execution_count": 14,
   "id": "32374b60",
   "metadata": {},
   "outputs": [],
   "source": [
    "image_one.show()\n",
    "image_two.show()"
   ]
  },
  {
   "cell_type": "code",
   "execution_count": 15,
   "id": "2d09b4d3",
   "metadata": {},
   "outputs": [],
   "source": [
    "# 그냥 픽셀단위로만 유사도 체크\n",
    "diff=ImageChops.difference(image_one,image_two)"
   ]
  },
  {
   "cell_type": "code",
   "execution_count": 16,
   "id": "6987161f",
   "metadata": {},
   "outputs": [],
   "source": [
    "diff.show()"
   ]
  },
  {
   "cell_type": "code",
   "execution_count": 17,
   "id": "606163d2",
   "metadata": {},
   "outputs": [
    {
     "name": "stdout",
     "output_type": "stream",
     "text": [
      "<PIL.Image.Image image mode=RGB size=259x194 at 0x2906C922970>\n"
     ]
    }
   ],
   "source": [
    "print(diff)"
   ]
  },
  {
   "cell_type": "code",
   "execution_count": 19,
   "id": "8c240342",
   "metadata": {},
   "outputs": [
    {
     "name": "stdout",
     "output_type": "stream",
     "text": [
      "images are same\n"
     ]
    }
   ],
   "source": [
    "if diff.getbbox():\n",
    "    print('images are different')\n",
    "else:\n",
    "    print('images are same')"
   ]
  },
  {
   "cell_type": "code",
   "execution_count": null,
   "id": "9ceb139c",
   "metadata": {},
   "outputs": [],
   "source": [
    "#"
   ]
  }
 ],
 "metadata": {
  "kernelspec": {
   "display_name": "Python 3",
   "language": "python",
   "name": "python3"
  },
  "language_info": {
   "codemirror_mode": {
    "name": "ipython",
    "version": 3
   },
   "file_extension": ".py",
   "mimetype": "text/x-python",
   "name": "python",
   "nbconvert_exporter": "python",
   "pygments_lexer": "ipython3",
   "version": "3.8.8"
  }
 },
 "nbformat": 4,
 "nbformat_minor": 5
}
