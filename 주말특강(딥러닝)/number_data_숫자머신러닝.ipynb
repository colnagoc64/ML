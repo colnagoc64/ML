{
 "cells": [
  {
   "cell_type": "markdown",
   "id": "88eeb82c",
   "metadata": {},
   "source": [
    "# 숫자 데이터셋 전처리"
   ]
  },
  {
   "cell_type": "markdown",
   "id": "051b8852",
   "metadata": {},
   "source": [
    "## 필요 모듈"
   ]
  },
  {
   "cell_type": "code",
   "execution_count": 3,
   "id": "a3483633",
   "metadata": {
    "ExecuteTime": {
     "end_time": "2021-11-20T03:14:09.206641Z",
     "start_time": "2021-11-20T03:14:09.193641Z"
    }
   },
   "outputs": [],
   "source": [
    "import numpy as np\n",
    "import matplotlib.pyplot as plt\n",
    "import pandas as pd\n",
    "%matplotlib inline\n",
    "\n",
    "from PIL import Image, ImageOps"
   ]
  },
  {
   "cell_type": "markdown",
   "id": "a1bc54cd",
   "metadata": {},
   "source": [
    "## 데이터 전처리 작업 Function"
   ]
  },
  {
   "cell_type": "markdown",
   "id": "d36d4c8f",
   "metadata": {},
   "source": [
    "Simple logic explanation - 각 숫자당 30개 총 1500개 training set\n",
    "1. Read png file\n",
    "2. Convert into black/white\n",
    "3. Convert into pixel binary data\n",
    "4. Change into 28x28 array \n",
    "5. Return dataframe"
   ]
  },
  {
   "cell_type": "code",
   "execution_count": 19,
   "id": "d1039c3c",
   "metadata": {
    "ExecuteTime": {
     "end_time": "2021-11-20T05:08:59.263964Z",
     "start_time": "2021-11-20T05:08:59.246962Z"
    }
   },
   "outputs": [],
   "source": [
    "def imgtopd(imgname):\n",
    "    file_path='./numbers_training_data/'+imgname[0]+'/'+imgname\n",
    "    img = Image.open(file_path)\n",
    "    img_gray = img.convert(\"L\")\n",
    "    img_inverted = ImageOps.invert(img_gray)\n",
    "\n",
    "    pixel_list = np.asarray(img_inverted).flatten().tolist()\n",
    "    pixel_list.insert(0,imgname[0:1])\n",
    "    n_df = pd.DataFrame(pixel_list)\n",
    "    return n_df.T"
   ]
  },
  {
   "cell_type": "markdown",
   "id": "ac7a292d",
   "metadata": {},
   "source": [
    "## Number dataset 읽기"
   ]
  },
  {
   "cell_type": "markdown",
   "id": "b71cc84c",
   "metadata": {},
   "source": [
    "1. Dataset 파일이름 리스트 생성\n",
    "2. 상기 파일이름 리스트에 따라 그림->픽셀데이터 변환 함수 호출 및 dataframe에 추가(concat)\n",
    "3. 픽셀 dataframe의 data shuffle\n",
    "4. 최종 dataframe을 csv로 출럭"
   ]
  },
  {
   "cell_type": "code",
   "execution_count": 20,
   "id": "6ae5c91b",
   "metadata": {
    "ExecuteTime": {
     "end_time": "2021-11-20T05:10:06.517907Z",
     "start_time": "2021-11-20T05:09:08.133913Z"
    }
   },
   "outputs": [],
   "source": [
    "# 1. 숫자 0~9 에 대해 각각 30개씩의 파일이 존재함. 각각을 읽어오기 위한 파일이름 리스트 생성\n",
    "file_names=[]\n",
    "for i in range(0,10):\n",
    "    for j in range(0,10):\n",
    "        temp=str(i)+'_00'+str(j)+'.png'\n",
    "        file_names.append(temp)\n",
    "        \n",
    "    for j in range(10,100):\n",
    "        temp=str(i)+'_0'+str(j)+'.png'\n",
    "        file_names.append(temp)\n",
    "        \n",
    "    for j in range(100,150):\n",
    "        temp=str(i)+'_'+str(j)+'.png'\n",
    "        file_names.append(temp)\n",
    "    \n",
    "# 2. 상기 파일이름 리스트에 따라 그림->픽셀데이터 변환 함수 호출 및 dataframe에 추가(concat)\n",
    "df=imgtopd(file_names[0])\n",
    "for i in file_names[1:]:\n",
    "    new_df=imgtopd(i)\n",
    "    df=pd.concat([df,new_df])\n",
    "    \n",
    "# 3. 픽셀 dataframe의 data shuffle\n",
    "df_shuffled=df.sample(frac=1).reset_index(drop=True)\n",
    "\n",
    "# 4. 최종 dataframe을 csv로 출럭\n",
    "df_shuffled.to_csv('numbering_usertest_set.csv', index=False)\n",
    "\n",
    "############## output csv file의 첫 row는 column name이므로, read_csv로 읽을 때, skiprows = 1 을 넣어주세요"
   ]
  }
 ],
 "metadata": {
  "kernelspec": {
   "display_name": "Python 3",
   "language": "python",
   "name": "python3"
  },
  "language_info": {
   "codemirror_mode": {
    "name": "ipython",
    "version": 3
   },
   "file_extension": ".py",
   "mimetype": "text/x-python",
   "name": "python",
   "nbconvert_exporter": "python",
   "pygments_lexer": "ipython3",
   "version": "3.8.8"
  },
  "toc": {
   "base_numbering": 1,
   "nav_menu": {},
   "number_sections": true,
   "sideBar": true,
   "skip_h1_title": false,
   "title_cell": "Table of Contents",
   "title_sidebar": "Contents",
   "toc_cell": false,
   "toc_position": {},
   "toc_section_display": true,
   "toc_window_display": false
  }
 },
 "nbformat": 4,
 "nbformat_minor": 5
}
