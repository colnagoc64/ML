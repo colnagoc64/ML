{
 "cells": [
  {
   "cell_type": "markdown",
   "id": "8c427839",
   "metadata": {},
   "source": [
    "# 신경망 만들기"
   ]
  },
  {
   "cell_type": "markdown",
   "id": "95deef48",
   "metadata": {},
   "source": [
    "Step 1. 기본 클래스 만들기\n",
    "- 구조 정의\n",
    "- 학습\n",
    "- 추론"
   ]
  },
  {
   "cell_type": "code",
   "execution_count": 1,
   "id": "6ed4042e",
   "metadata": {},
   "outputs": [],
   "source": [
    "import numpy as np\n",
    "import scipy.special"
   ]
  },
  {
   "cell_type": "code",
   "execution_count": 12,
   "id": "2d70302d",
   "metadata": {},
   "outputs": [],
   "source": [
    "# 신경망 클래스 정의\n",
    "class MyNeuralNet:\n",
    "    \n",
    "    def __init__(self, inputnodes, hiddennodes, outputnodes, learningrate):\n",
    "        # 입력, 은닉, 출력 계층의 노드 개수 설정\n",
    "        self.innode = inputnodes\n",
    "        self.hnode = hiddennodes\n",
    "        self.outnode = outputnodes\n",
    "        \n",
    "        # 학습률\n",
    "        self.lr = learningrate\n",
    "        \n",
    "        self.wih = np.random.rand(self.hnode, self.innode) - 0.5\n",
    "        self.who = np.random.rand(self.outnode, self.hnode) - 0.5\n",
    "        \n",
    "        pass\n",
    "    \n",
    "    def printWeight(self):\n",
    "        print(self.wih.shape, self.wih)\n",
    "        print(self.who.shape, self.who)\n",
    "    \n",
    "    # forward and backward\n",
    "    def train(self, input_list, target_list):\n",
    "        input = np.array(input_list, ndmin = 2).T\n",
    "        \n",
    "        # input -> hidden\n",
    "        hidden_input = np.dot(self.wih, input)\n",
    "        hidden_output = scipy.special.expit(hidden_input)\n",
    "        \n",
    "        # hidden -> output\n",
    "        output_hidden = np.dot(self.who, hidden_output)\n",
    "        final_outputs = scipy.special.expit(output_hidden)\n",
    "        \n",
    "        # Get Error\n",
    "        targets = np.array(target_list, ndmin = 2).T\n",
    "        output_error = targets - final_outputs\n",
    "        hidden_error = np.dot(self.who.T, output_error)\n",
    "        \n",
    "        # Update weight\n",
    "        self.who += self.lr * \\\n",
    "                            np.dot((output_error * final_outputs) * (1.0 - final_outputs), \\\n",
    "                            np.transpose(hidden_output))\n",
    "        \n",
    "        self.wih += self.lr * \\\n",
    "                            np.dot((hidden_error * hidden_output) * (1.0 - hidden_output), \\\n",
    "                            np.transpose(input))\n",
    "        \n",
    "    # forward\n",
    "    def inference(self, input_list):\n",
    "        input = np.array(input_list, ndmin = 2).T\n",
    "        \n",
    "        # input -> hidden\n",
    "        hidden_input = np.dot(self.wih, input)\n",
    "        hidden_output = scipy.special.expit(hidden_input)\n",
    "        \n",
    "        # hidden -> output\n",
    "        output_hidden = np.dot(self.who, hidden_output)\n",
    "        final_output = scipy.special.expit(output_hidden)\n",
    "        \n",
    "        return final_output"
   ]
  },
  {
   "cell_type": "code",
   "execution_count": 43,
   "id": "ec26ab8c",
   "metadata": {},
   "outputs": [
    {
     "name": "stdout",
     "output_type": "stream",
     "text": [
      "[[0.4450274 ]\n",
      " [0.49485994]\n",
      " [0.39709852]]\n",
      "[[0.44804714]\n",
      " [0.4782891 ]\n",
      " [0.381878  ]]\n"
     ]
    }
   ],
   "source": [
    "net = MyNeuralNet(4, 2, 3, 0.9)\n",
    "print(net.inference([10,10,20,20]))\n",
    "net.train([10, 20, 40, 50], [0.5, 0.2, 0.1])\n",
    "print(net.inference([10,10,20,20]))"
   ]
  },
  {
   "cell_type": "markdown",
   "id": "daa05fe9",
   "metadata": {},
   "source": [
    "# MNIST"
   ]
  },
  {
   "cell_type": "code",
   "execution_count": 4,
   "id": "2b15d155",
   "metadata": {},
   "outputs": [],
   "source": [
    "# !pip install numpy"
   ]
  },
  {
   "cell_type": "code",
   "execution_count": 44,
   "id": "2444eab3",
   "metadata": {},
   "outputs": [],
   "source": [
    "# !mkdir mnist_data  #폴더만들기"
   ]
  },
  {
   "cell_type": "code",
   "execution_count": 2,
   "id": "fe8e1437",
   "metadata": {},
   "outputs": [],
   "source": [
    "import shutil\n",
    "import requests #http 를 받을수있는 모듈\n",
    "\n",
    "from tqdm import tqdm\n",
    "import requests"
   ]
  },
  {
   "cell_type": "code",
   "execution_count": 45,
   "id": "789ac5a3",
   "metadata": {},
   "outputs": [],
   "source": [
    "mnist_train_url = 'http://www.pjreddie.com/media/files/mnist_train.csv'\n",
    "mnist_test_url = 'http://www.pjreddie.com/media/files/mnist_test.csv'"
   ]
  },
  {
   "cell_type": "code",
   "execution_count": 4,
   "id": "37de1f9e",
   "metadata": {},
   "outputs": [],
   "source": [
    "import shutil\n",
    "import requests #http 를 받을수있는 모듈\n",
    "\n",
    "def download(url, file_name, file_mode='wb'):\n",
    "    response = requests.get(url, stream=True)\n",
    "    with open(file_name, file_mode) as out_file:\n",
    "        shutil.copyfileobj(response.raw, out_file)\n",
    "    del response"
   ]
  },
  {
   "cell_type": "code",
   "execution_count": 49,
   "id": "472d7288",
   "metadata": {},
   "outputs": [],
   "source": [
    "download(mnist_train_url, 'mnist_data/mnist_train.csv', 'wb')\n",
    "download(mnist_test_url, 'mnist_data/mnist_test.csv', 'wb')"
   ]
  },
  {
   "cell_type": "code",
   "execution_count": 50,
   "id": "0d4b78b4",
   "metadata": {},
   "outputs": [],
   "source": [
    "#다운로드 업그레이드 버전\n",
    "\n",
    "from tqdm import tqdm\n",
    "import requests\n",
    "\n",
    "# url = 'http://www.ovh.net/files/10Mb.dat' # big file test\n",
    "def download(url, file_name, file_mode = 'wb'):\n",
    "    # Streaming, so we can iterate over the response\n",
    "    response = requests.get(url, stream=True)\n",
    "    total_size_in_bytes=int(response.headers.get('content-length', 0))\n",
    "    block_size=1024 #1 Kibibyte\n",
    "    progress_bar=tqdm(total=total_size_in_bytes, unit='iB', unit_scale=True)\n",
    "    with open(file_name, file_mode) as file:\n",
    "        for data in response.iter_content(block_size):\n",
    "            progress_bar.update(len(data))\n",
    "            file.write(data)\n",
    "    progress_bar.close()\n",
    "    if total_size_in_bytes != 0 and progress_bar.n != total_size_in_bytes:\n",
    "        print('ERROR, something went wrong')"
   ]
  },
  {
   "cell_type": "code",
   "execution_count": 51,
   "id": "bba4dff9",
   "metadata": {},
   "outputs": [
    {
     "name": "stderr",
     "output_type": "stream",
     "text": [
      "100%|██████████████████████████████████████████████████████████████████████████████| 110M/110M [00:53<00:00, 2.05MiB/s]\n",
      "100%|████████████████████████████████████████████████████████████████████████████| 18.3M/18.3M [00:07<00:00, 2.60MiB/s]\n"
     ]
    }
   ],
   "source": [
    "download(mnist_train_url, 'mnist_data/mnist_train.csv', 'wb')\n",
    "download(mnist_test_url, 'mnist_data/mnist_test.csv', 'wb')"
   ]
  },
  {
   "cell_type": "code",
   "execution_count": 52,
   "id": "8164a62c",
   "metadata": {},
   "outputs": [
    {
     "name": "stderr",
     "output_type": "stream",
     "text": [
      "182kiB [00:00, 11.4MiB/s]                                                                                              \n"
     ]
    },
    {
     "name": "stdout",
     "output_type": "stream",
     "text": [
      "ERROR, something went wrong\n"
     ]
    },
    {
     "name": "stderr",
     "output_type": "stream",
     "text": [
      "18.0kiB [00:00, 2.23MiB/s]                                                                                             "
     ]
    },
    {
     "name": "stdout",
     "output_type": "stream",
     "text": [
      "ERROR, something went wrong\n"
     ]
    },
    {
     "name": "stderr",
     "output_type": "stream",
     "text": [
      "\n"
     ]
    }
   ],
   "source": [
    "mnist_train_100_url = 'https://git.io/vySZ1'\n",
    "mnist_test_10_url = 'https://git.io/vySZP'\n",
    "\n",
    "download(mnist_train_100_url, 'mnist_data/mnist_train_100.csv', 'wb')\n",
    "download(mnist_test_10_url, 'mnist_data/mnist_test_10.csv', 'wb')"
   ]
  },
  {
   "cell_type": "code",
   "execution_count": 5,
   "id": "ac5ccb49",
   "metadata": {},
   "outputs": [
    {
     "data": {
      "text/html": [
       "<div>\n",
       "<style scoped>\n",
       "    .dataframe tbody tr th:only-of-type {\n",
       "        vertical-align: middle;\n",
       "    }\n",
       "\n",
       "    .dataframe tbody tr th {\n",
       "        vertical-align: top;\n",
       "    }\n",
       "\n",
       "    .dataframe thead th {\n",
       "        text-align: right;\n",
       "    }\n",
       "</style>\n",
       "<table border=\"1\" class=\"dataframe\">\n",
       "  <thead>\n",
       "    <tr style=\"text-align: right;\">\n",
       "      <th></th>\n",
       "      <th>0</th>\n",
       "      <th>1</th>\n",
       "      <th>2</th>\n",
       "      <th>3</th>\n",
       "      <th>4</th>\n",
       "      <th>5</th>\n",
       "      <th>6</th>\n",
       "      <th>7</th>\n",
       "      <th>8</th>\n",
       "      <th>9</th>\n",
       "      <th>...</th>\n",
       "      <th>775</th>\n",
       "      <th>776</th>\n",
       "      <th>777</th>\n",
       "      <th>778</th>\n",
       "      <th>779</th>\n",
       "      <th>780</th>\n",
       "      <th>781</th>\n",
       "      <th>782</th>\n",
       "      <th>783</th>\n",
       "      <th>784</th>\n",
       "    </tr>\n",
       "  </thead>\n",
       "  <tbody>\n",
       "    <tr>\n",
       "      <th>0</th>\n",
       "      <td>7</td>\n",
       "      <td>0</td>\n",
       "      <td>0</td>\n",
       "      <td>0</td>\n",
       "      <td>0</td>\n",
       "      <td>0</td>\n",
       "      <td>0</td>\n",
       "      <td>0</td>\n",
       "      <td>0</td>\n",
       "      <td>0</td>\n",
       "      <td>...</td>\n",
       "      <td>0</td>\n",
       "      <td>0</td>\n",
       "      <td>0</td>\n",
       "      <td>0</td>\n",
       "      <td>0</td>\n",
       "      <td>0</td>\n",
       "      <td>0</td>\n",
       "      <td>0</td>\n",
       "      <td>0</td>\n",
       "      <td>0</td>\n",
       "    </tr>\n",
       "    <tr>\n",
       "      <th>1</th>\n",
       "      <td>2</td>\n",
       "      <td>0</td>\n",
       "      <td>0</td>\n",
       "      <td>0</td>\n",
       "      <td>0</td>\n",
       "      <td>0</td>\n",
       "      <td>0</td>\n",
       "      <td>0</td>\n",
       "      <td>0</td>\n",
       "      <td>0</td>\n",
       "      <td>...</td>\n",
       "      <td>0</td>\n",
       "      <td>0</td>\n",
       "      <td>0</td>\n",
       "      <td>0</td>\n",
       "      <td>0</td>\n",
       "      <td>0</td>\n",
       "      <td>0</td>\n",
       "      <td>0</td>\n",
       "      <td>0</td>\n",
       "      <td>0</td>\n",
       "    </tr>\n",
       "    <tr>\n",
       "      <th>2</th>\n",
       "      <td>1</td>\n",
       "      <td>0</td>\n",
       "      <td>0</td>\n",
       "      <td>0</td>\n",
       "      <td>0</td>\n",
       "      <td>0</td>\n",
       "      <td>0</td>\n",
       "      <td>0</td>\n",
       "      <td>0</td>\n",
       "      <td>0</td>\n",
       "      <td>...</td>\n",
       "      <td>0</td>\n",
       "      <td>0</td>\n",
       "      <td>0</td>\n",
       "      <td>0</td>\n",
       "      <td>0</td>\n",
       "      <td>0</td>\n",
       "      <td>0</td>\n",
       "      <td>0</td>\n",
       "      <td>0</td>\n",
       "      <td>0</td>\n",
       "    </tr>\n",
       "    <tr>\n",
       "      <th>3</th>\n",
       "      <td>0</td>\n",
       "      <td>0</td>\n",
       "      <td>0</td>\n",
       "      <td>0</td>\n",
       "      <td>0</td>\n",
       "      <td>0</td>\n",
       "      <td>0</td>\n",
       "      <td>0</td>\n",
       "      <td>0</td>\n",
       "      <td>0</td>\n",
       "      <td>...</td>\n",
       "      <td>0</td>\n",
       "      <td>0</td>\n",
       "      <td>0</td>\n",
       "      <td>0</td>\n",
       "      <td>0</td>\n",
       "      <td>0</td>\n",
       "      <td>0</td>\n",
       "      <td>0</td>\n",
       "      <td>0</td>\n",
       "      <td>0</td>\n",
       "    </tr>\n",
       "    <tr>\n",
       "      <th>4</th>\n",
       "      <td>4</td>\n",
       "      <td>0</td>\n",
       "      <td>0</td>\n",
       "      <td>0</td>\n",
       "      <td>0</td>\n",
       "      <td>0</td>\n",
       "      <td>0</td>\n",
       "      <td>0</td>\n",
       "      <td>0</td>\n",
       "      <td>0</td>\n",
       "      <td>...</td>\n",
       "      <td>0</td>\n",
       "      <td>0</td>\n",
       "      <td>0</td>\n",
       "      <td>0</td>\n",
       "      <td>0</td>\n",
       "      <td>0</td>\n",
       "      <td>0</td>\n",
       "      <td>0</td>\n",
       "      <td>0</td>\n",
       "      <td>0</td>\n",
       "    </tr>\n",
       "    <tr>\n",
       "      <th>5</th>\n",
       "      <td>1</td>\n",
       "      <td>0</td>\n",
       "      <td>0</td>\n",
       "      <td>0</td>\n",
       "      <td>0</td>\n",
       "      <td>0</td>\n",
       "      <td>0</td>\n",
       "      <td>0</td>\n",
       "      <td>0</td>\n",
       "      <td>0</td>\n",
       "      <td>...</td>\n",
       "      <td>0</td>\n",
       "      <td>0</td>\n",
       "      <td>0</td>\n",
       "      <td>0</td>\n",
       "      <td>0</td>\n",
       "      <td>0</td>\n",
       "      <td>0</td>\n",
       "      <td>0</td>\n",
       "      <td>0</td>\n",
       "      <td>0</td>\n",
       "    </tr>\n",
       "    <tr>\n",
       "      <th>6</th>\n",
       "      <td>4</td>\n",
       "      <td>0</td>\n",
       "      <td>0</td>\n",
       "      <td>0</td>\n",
       "      <td>0</td>\n",
       "      <td>0</td>\n",
       "      <td>0</td>\n",
       "      <td>0</td>\n",
       "      <td>0</td>\n",
       "      <td>0</td>\n",
       "      <td>...</td>\n",
       "      <td>0</td>\n",
       "      <td>0</td>\n",
       "      <td>0</td>\n",
       "      <td>0</td>\n",
       "      <td>0</td>\n",
       "      <td>0</td>\n",
       "      <td>0</td>\n",
       "      <td>0</td>\n",
       "      <td>0</td>\n",
       "      <td>0</td>\n",
       "    </tr>\n",
       "    <tr>\n",
       "      <th>7</th>\n",
       "      <td>9</td>\n",
       "      <td>0</td>\n",
       "      <td>0</td>\n",
       "      <td>0</td>\n",
       "      <td>0</td>\n",
       "      <td>0</td>\n",
       "      <td>0</td>\n",
       "      <td>0</td>\n",
       "      <td>0</td>\n",
       "      <td>0</td>\n",
       "      <td>...</td>\n",
       "      <td>0</td>\n",
       "      <td>0</td>\n",
       "      <td>0</td>\n",
       "      <td>0</td>\n",
       "      <td>0</td>\n",
       "      <td>0</td>\n",
       "      <td>0</td>\n",
       "      <td>0</td>\n",
       "      <td>0</td>\n",
       "      <td>0</td>\n",
       "    </tr>\n",
       "    <tr>\n",
       "      <th>8</th>\n",
       "      <td>5</td>\n",
       "      <td>0</td>\n",
       "      <td>0</td>\n",
       "      <td>0</td>\n",
       "      <td>0</td>\n",
       "      <td>0</td>\n",
       "      <td>0</td>\n",
       "      <td>0</td>\n",
       "      <td>0</td>\n",
       "      <td>0</td>\n",
       "      <td>...</td>\n",
       "      <td>0</td>\n",
       "      <td>0</td>\n",
       "      <td>0</td>\n",
       "      <td>0</td>\n",
       "      <td>0</td>\n",
       "      <td>0</td>\n",
       "      <td>0</td>\n",
       "      <td>0</td>\n",
       "      <td>0</td>\n",
       "      <td>0</td>\n",
       "    </tr>\n",
       "    <tr>\n",
       "      <th>9</th>\n",
       "      <td>9</td>\n",
       "      <td>0</td>\n",
       "      <td>0</td>\n",
       "      <td>0</td>\n",
       "      <td>0</td>\n",
       "      <td>0</td>\n",
       "      <td>0</td>\n",
       "      <td>0</td>\n",
       "      <td>0</td>\n",
       "      <td>0</td>\n",
       "      <td>...</td>\n",
       "      <td>0</td>\n",
       "      <td>0</td>\n",
       "      <td>0</td>\n",
       "      <td>0</td>\n",
       "      <td>0</td>\n",
       "      <td>0</td>\n",
       "      <td>0</td>\n",
       "      <td>0</td>\n",
       "      <td>0</td>\n",
       "      <td>0</td>\n",
       "    </tr>\n",
       "  </tbody>\n",
       "</table>\n",
       "<p>10 rows × 785 columns</p>\n",
       "</div>"
      ],
      "text/plain": [
       "   0    1    2    3    4    5    6    7    8    9    ...  775  776  777  778  \\\n",
       "0    7    0    0    0    0    0    0    0    0    0  ...    0    0    0    0   \n",
       "1    2    0    0    0    0    0    0    0    0    0  ...    0    0    0    0   \n",
       "2    1    0    0    0    0    0    0    0    0    0  ...    0    0    0    0   \n",
       "3    0    0    0    0    0    0    0    0    0    0  ...    0    0    0    0   \n",
       "4    4    0    0    0    0    0    0    0    0    0  ...    0    0    0    0   \n",
       "5    1    0    0    0    0    0    0    0    0    0  ...    0    0    0    0   \n",
       "6    4    0    0    0    0    0    0    0    0    0  ...    0    0    0    0   \n",
       "7    9    0    0    0    0    0    0    0    0    0  ...    0    0    0    0   \n",
       "8    5    0    0    0    0    0    0    0    0    0  ...    0    0    0    0   \n",
       "9    9    0    0    0    0    0    0    0    0    0  ...    0    0    0    0   \n",
       "\n",
       "   779  780  781  782  783  784  \n",
       "0    0    0    0    0    0    0  \n",
       "1    0    0    0    0    0    0  \n",
       "2    0    0    0    0    0    0  \n",
       "3    0    0    0    0    0    0  \n",
       "4    0    0    0    0    0    0  \n",
       "5    0    0    0    0    0    0  \n",
       "6    0    0    0    0    0    0  \n",
       "7    0    0    0    0    0    0  \n",
       "8    0    0    0    0    0    0  \n",
       "9    0    0    0    0    0    0  \n",
       "\n",
       "[10 rows x 785 columns]"
      ]
     },
     "execution_count": 5,
     "metadata": {},
     "output_type": "execute_result"
    }
   ],
   "source": [
    "import pandas as pd\n",
    "csv_test = pd.read_csv('mnist_data/mnist_test_10.csv', header=None)\n",
    "csv_test.head(10)"
   ]
  },
  {
   "cell_type": "code",
   "execution_count": 6,
   "id": "c68405d7",
   "metadata": {},
   "outputs": [
    {
     "name": "stdout",
     "output_type": "stream",
     "text": [
      "7,0,0,0,0,0,0,0,0,0,0,0,0,0,0,0,0,0,0,0,0,0,0,0,0,0,0,0,0,0,0,0,0,0,0,0,0,0,0,0,0,0,0,0,0,0,0,0,0,0,0,0,0,0,0,0,0,0,0,0,0,0,0,0,0,0,0,0,0,0,0,0,0,0,0,0,0,0,0,0,0,0,0,0,0,0,0,0,0,0,0,0,0,0,0,0,0,0,0,0,0,0,0,0,0,0,0,0,0,0,0,0,0,0,0,0,0,0,0,0,0,0,0,0,0,0,0,0,0,0,0,0,0,0,0,0,0,0,0,0,0,0,0,0,0,0,0,0,0,0,0,0,0,0,0,0,0,0,0,0,0,0,0,0,0,0,0,0,0,0,0,0,0,0,0,0,0,0,0,0,0,0,0,0,0,0,0,0,0,0,0,0,0,0,0,0,0,0,0,0,0,0,0,84,185,159,151,60,36,0,0,0,0,0,0,0,0,0,0,0,0,0,0,0,0,0,0,0,0,0,0,222,254,254,254,254,241,198,198,198,198,198,198,198,198,170,52,0,0,0,0,0,0,0,0,0,0,0,0,67,114,72,114,163,227,254,225,254,254,254,250,229,254,254,140,0,0,0,0,0,0,0,0,0,0,0,0,0,0,0,0,0,17,66,14,67,67,67,59,21,236,254,106,0,0,0,0,0,0,0,0,0,0,0,0,0,0,0,0,0,0,0,0,0,0,0,0,83,253,209,18,0,0,0,0,0,0,0,0,0,0,0,0,0,0,0,0,0,0,0,0,0,0,0,22,233,255,83,0,0,0,0,0,0,0,0,0,0,0,0,0,0,0,0,0,0,0,0,0,0,0,0,129,254,238,44,0,0,0,0,0,0,0,0,0,0,0,0,0,0,0,0,0,0,0,0,0,0,0,59,249,254,62,0,0,0,0,0,0,0,0,0,0,0,0,0,0,0,0,0,0,0,0,0,0,0,0,133,254,187,5,0,0,0,0,0,0,0,0,0,0,0,0,0,0,0,0,0,0,0,0,0,0,0,9,205,248,58,0,0,0,0,0,0,0,0,0,0,0,0,0,0,0,0,0,0,0,0,0,0,0,0,126,254,182,0,0,0,0,0,0,0,0,0,0,0,0,0,0,0,0,0,0,0,0,0,0,0,0,75,251,240,57,0,0,0,0,0,0,0,0,0,0,0,0,0,0,0,0,0,0,0,0,0,0,0,19,221,254,166,0,0,0,0,0,0,0,0,0,0,0,0,0,0,0,0,0,0,0,0,0,0,0,3,203,254,219,35,0,0,0,0,0,0,0,0,0,0,0,0,0,0,0,0,0,0,0,0,0,0,0,38,254,254,77,0,0,0,0,0,0,0,0,0,0,0,0,0,0,0,0,0,0,0,0,0,0,0,31,224,254,115,1,0,0,0,0,0,0,0,0,0,0,0,0,0,0,0,0,0,0,0,0,0,0,0,133,254,254,52,0,0,0,0,0,0,0,0,0,0,0,0,0,0,0,0,0,0,0,0,0,0,0,61,242,254,254,52,0,0,0,0,0,0,0,0,0,0,0,0,0,0,0,0,0,0,0,0,0,0,0,121,254,254,219,40,0,0,0,0,0,0,0,0,0,0,0,0,0,0,0,0,0,0,0,0,0,0,0,121,254,207,18,0,0,0,0,0,0,0,0,0,0,0,0,0,0,0,0,0,0,0,0,0,0,0,0,0,0,0,0,0,0,0,0,0,0,0,0,0,0,0,0,0,0\n",
      "\n"
     ]
    }
   ],
   "source": [
    "# 패키지가 없는 극한의 환경\n",
    "data_file = open('mnist_data/mnist_test_10.csv', 'r')\n",
    "data_list = data_file.readlines()\n",
    "data_file.close()\n",
    "len(data_list)\n",
    "print(data_list[0])"
   ]
  },
  {
   "cell_type": "markdown",
   "id": "8fdafe16",
   "metadata": {},
   "source": [
    "# Display Image"
   ]
  },
  {
   "cell_type": "code",
   "execution_count": 7,
   "id": "2e9aab39",
   "metadata": {},
   "outputs": [],
   "source": [
    "import numpy as np\n",
    "import matplotlib.pyplot as plt\n",
    "%matplotlib inline"
   ]
  },
  {
   "cell_type": "code",
   "execution_count": 8,
   "id": "9a1428bf",
   "metadata": {},
   "outputs": [
    {
     "name": "stdout",
     "output_type": "stream",
     "text": [
      "Number :  1\n"
     ]
    },
    {
     "data": {
      "image/png": "[encoded data removed]",
      "text/plain": [
       "<Figure size 432x288 with 1 Axes>"
      ]
     },
     "metadata": {
      "needs_background": "light"
     },
     "output_type": "display_data"
    }
   ],
   "source": [
    "all_values = data_list[2].split(',')\n",
    "# all_values = csv_test.iloc[0].to_numpy()\n",
    "image_array = np.asfarray(all_values[1:]).reshape((28,28))\n",
    "plt.imshow(image_array, cmap='Greys', interpolation='None')\n",
    "print('Number : ', all_values[0])"
   ]
  },
  {
   "cell_type": "markdown",
   "id": "e74b3276",
   "metadata": {},
   "source": [
    "# Prepare training data"
   ]
  },
  {
   "cell_type": "code",
   "execution_count": 9,
   "id": "bdd92d6e",
   "metadata": {},
   "outputs": [
    {
     "name": "stdout",
     "output_type": "stream",
     "text": [
      "[0.01       0.01       0.01       0.01       0.01       0.01\n",
      " 0.01       0.01       0.01       0.01       0.01       0.01\n",
      " 0.01       0.01       0.01       0.01       0.01       0.01\n",
      " 0.01       0.01       0.01       0.01       0.01       0.01\n",
      " 0.01       0.01       0.01       0.01       0.01       0.01\n",
      " 0.01       0.01       0.01       0.01       0.01       0.01\n",
      " 0.01       0.01       0.01       0.01       0.01       0.01\n",
      " 0.01       0.01       0.01       0.01       0.01       0.01\n",
      " 0.01       0.01       0.01       0.01       0.01       0.01\n",
      " 0.01       0.01       0.01       0.01       0.01       0.01\n",
      " 0.01       0.01       0.01       0.01       0.01       0.01\n",
      " 0.01       0.01       0.01       0.01       0.01       0.01\n",
      " 0.01       0.01       0.01       0.01       0.01       0.01\n",
      " 0.01       0.01       0.01       0.01       0.01       0.01\n",
      " 0.01       0.01       0.01       0.01       0.01       0.01\n",
      " 0.01       0.01       0.01       0.01       0.01       0.01\n",
      " 0.01       0.01       0.01       0.01       0.01       0.01\n",
      " 0.01       0.01       0.01       0.01       0.01       0.01\n",
      " 0.01       0.01       0.01       0.01       0.01       0.01\n",
      " 0.01       0.01       0.01       0.01       0.01       0.01\n",
      " 0.01       0.01       0.01       0.01       0.01       0.01\n",
      " 0.01       0.01       0.15752941 0.99611765 0.43317647 0.01\n",
      " 0.01       0.01       0.01       0.01       0.01       0.01\n",
      " 0.01       0.01       0.01       0.01       0.01       0.01\n",
      " 0.01       0.01       0.01       0.01       0.01       0.01\n",
      " 0.01       0.01       0.01       0.01       0.01       0.01\n",
      " 0.34776471 0.98835294 0.32835294 0.01       0.01       0.01\n",
      " 0.01       0.01       0.01       0.01       0.01       0.01\n",
      " 0.01       0.01       0.01       0.01       0.01       0.01\n",
      " 0.01       0.01       0.01       0.01       0.01       0.01\n",
      " 0.01       0.01       0.01       0.01       0.53411765 0.94564706\n",
      " 0.01       0.01       0.01       0.01       0.01       0.01\n",
      " 0.01       0.01       0.01       0.01       0.01       0.01\n",
      " 0.01       0.01       0.01       0.01       0.01       0.01\n",
      " 0.01       0.01       0.01       0.01       0.01       0.01\n",
      " 0.01       0.18470588 0.95729412 0.59235294 0.01       0.01\n",
      " 0.01       0.01       0.01       0.01       0.01       0.01\n",
      " 0.01       0.01       0.01       0.01       0.01       0.01\n",
      " 0.01       0.01       0.01       0.01       0.01       0.01\n",
      " 0.01       0.01       0.01       0.01       0.01       0.33611765\n",
      " 0.99611765 0.25458824 0.01       0.01       0.01       0.01\n",
      " 0.01       0.01       0.01       0.01       0.01       0.01\n",
      " 0.01       0.01       0.01       0.01       0.01       0.01\n",
      " 0.01       0.01       0.01       0.01       0.01       0.01\n",
      " 0.01       0.01       0.01       0.79423529 0.87576471 0.05270588\n",
      " 0.01       0.01       0.01       0.01       0.01       0.01\n",
      " 0.01       0.01       0.01       0.01       0.01       0.01\n",
      " 0.01       0.01       0.01       0.01       0.01       0.01\n",
      " 0.01       0.01       0.01       0.01       0.01       0.01\n",
      " 0.13423529 0.99611765 0.84858824 0.01       0.01       0.01\n",
      " 0.01       0.01       0.01       0.01       0.01       0.01\n",
      " 0.01       0.01       0.01       0.01       0.01       0.01\n",
      " 0.01       0.01       0.01       0.01       0.01       0.01\n",
      " 0.01       0.01       0.01       0.01       0.37882353 0.99611765\n",
      " 0.76705882 0.01       0.01       0.01       0.01       0.01\n",
      " 0.01       0.01       0.01       0.01       0.01       0.01\n",
      " 0.01       0.01       0.01       0.01       0.01       0.01\n",
      " 0.01       0.01       0.01       0.01       0.01       0.01\n",
      " 0.01       0.01       0.55352941 0.99611765 0.30894118 0.01\n",
      " 0.01       0.01       0.01       0.01       0.01       0.01\n",
      " 0.01       0.01       0.01       0.01       0.01       0.01\n",
      " 0.01       0.01       0.01       0.01       0.01       0.01\n",
      " 0.01       0.01       0.01       0.01       0.01       0.23129412\n",
      " 0.93011765 0.80588235 0.04105882 0.01       0.01       0.01\n",
      " 0.01       0.01       0.01       0.01       0.01       0.01\n",
      " 0.01       0.01       0.01       0.01       0.01       0.01\n",
      " 0.01       0.01       0.01       0.01       0.01       0.01\n",
      " 0.01       0.01       0.01       0.49141176 1.         0.65058824\n",
      " 0.01       0.01       0.01       0.01       0.01       0.01\n",
      " 0.01       0.01       0.01       0.01       0.01       0.01\n",
      " 0.01       0.01       0.01       0.01       0.01       0.01\n",
      " 0.01       0.01       0.01       0.01       0.01       0.01\n",
      " 0.01       0.67388235 0.99611765 0.32447059 0.01       0.01\n",
      " 0.01       0.01       0.01       0.01       0.01       0.01\n",
      " 0.01       0.01       0.01       0.01       0.01       0.01\n",
      " 0.01       0.01       0.01       0.01       0.01       0.01\n",
      " 0.01       0.01       0.01       0.01       0.10317647 0.91070588\n",
      " 0.84470588 0.01       0.01       0.01       0.01       0.01\n",
      " 0.01       0.01       0.01       0.01       0.01       0.01\n",
      " 0.01       0.01       0.01       0.01       0.01       0.01\n",
      " 0.01       0.01       0.01       0.01       0.01       0.01\n",
      " 0.01       0.01       0.47588235 0.99611765 0.62729412 0.01\n",
      " 0.01       0.01       0.01       0.01       0.01       0.01\n",
      " 0.01       0.01       0.01       0.01       0.01       0.01\n",
      " 0.01       0.01       0.01       0.01       0.01       0.01\n",
      " 0.01       0.01       0.01       0.01       0.01       0.01\n",
      " 0.59623529 0.99611765 0.56129412 0.01       0.01       0.01\n",
      " 0.01       0.01       0.01       0.01       0.01       0.01\n",
      " 0.01       0.01       0.01       0.01       0.01       0.01\n",
      " 0.01       0.01       0.01       0.01       0.01       0.01\n",
      " 0.01       0.01       0.01       0.01       0.89517647 0.99611765\n",
      " 0.26623529 0.01       0.01       0.01       0.01       0.01\n",
      " 0.01       0.01       0.01       0.01       0.01       0.01\n",
      " 0.01       0.01       0.01       0.01       0.01       0.01\n",
      " 0.01       0.01       0.01       0.01       0.01       0.01\n",
      " 0.01       0.24682353 0.98447059 0.99611765 0.26623529 0.01\n",
      " 0.01       0.01       0.01       0.01       0.01       0.01\n",
      " 0.01       0.01       0.01       0.01       0.01       0.01\n",
      " 0.01       0.01       0.01       0.01       0.01       0.01\n",
      " 0.01       0.01       0.01       0.01       0.01       0.55741176\n",
      " 0.99611765 0.80588235 0.02164706 0.01       0.01       0.01\n",
      " 0.01       0.01       0.01       0.01       0.01       0.01\n",
      " 0.01       0.01       0.01       0.01       0.01       0.01\n",
      " 0.01       0.01       0.01       0.01       0.01       0.01\n",
      " 0.01       0.01       0.04882353 0.84470588 0.99611765 0.47976471\n",
      " 0.01       0.01       0.01       0.01       0.01       0.01\n",
      " 0.01       0.01       0.01       0.01       0.01       0.01\n",
      " 0.01       0.01       0.01       0.01       0.01       0.01\n",
      " 0.01       0.01       0.01       0.01       0.01       0.01\n",
      " 0.02941176 0.77870588 0.69329412 0.04882353 0.01       0.01\n",
      " 0.01       0.01       0.01       0.01       0.01       0.01\n",
      " 0.01       0.01       0.01       0.01       0.01       0.01\n",
      " 0.01       0.01       0.01       0.01       0.01       0.01\n",
      " 0.01       0.01       0.01       0.01       0.01       0.01\n",
      " 0.01       0.01       0.01       0.01       0.01       0.01\n",
      " 0.01       0.01       0.01       0.01       0.01       0.01\n",
      " 0.01       0.01       0.01       0.01       0.01       0.01\n",
      " 0.01       0.01       0.01       0.01       0.01       0.01\n",
      " 0.01       0.01       0.01       0.01       0.01       0.01\n",
      " 0.01       0.01       0.01       0.01       0.01       0.01\n",
      " 0.01       0.01       0.01       0.01       0.01       0.01\n",
      " 0.01       0.01       0.01       0.01       0.01       0.01\n",
      " 0.01       0.01       0.01       0.01       0.01       0.01\n",
      " 0.01       0.01       0.01       0.01       0.01       0.01\n",
      " 0.01       0.01       0.01       0.01       0.01       0.01\n",
      " 0.01       0.01       0.01       0.01       0.01       0.01\n",
      " 0.01       0.01       0.01       0.01       0.01       0.01\n",
      " 0.01       0.01       0.01       0.01       0.01       0.01\n",
      " 0.01       0.01       0.01       0.01       0.01       0.01\n",
      " 0.01       0.01       0.01       0.01       0.01       0.01\n",
      " 0.01       0.01       0.01       0.01      ]\n",
      "(784,)\n"
     ]
    }
   ],
   "source": [
    "# convert pixel range 0 ~ 255 to 0.01 ~ 1.0\n",
    "scaled_input = (np.asfarray(all_values[1:]) / 255.0 * 0.99) + 0.01\n",
    "print(scaled_input)\n",
    "print(scaled_input.shape)"
   ]
  },
  {
   "cell_type": "code",
   "execution_count": 10,
   "id": "a747856b",
   "metadata": {},
   "outputs": [
    {
     "name": "stdout",
     "output_type": "stream",
     "text": [
      "1 [0.01 0.99 0.01 0.01 0.01 0.01 0.01 0.01 0.01 0.01]\n"
     ]
    }
   ],
   "source": [
    "# label (0.01 ~ 0.99)\n",
    "onodes = 10\n",
    "targets = np.zeros(onodes) + 0.01\n",
    "targets[int(all_values[0])] = 0.99\n",
    "print(all_values[0], targets)"
   ]
  },
  {
   "cell_type": "markdown",
   "id": "791bccca",
   "metadata": {},
   "source": [
    "# train"
   ]
  },
  {
   "cell_type": "code",
   "execution_count": 15,
   "id": "2b858105",
   "metadata": {
    "scrolled": false
   },
   "outputs": [
    {
     "name": "stdout",
     "output_type": "stream",
     "text": [
      "(120, 784) [[-2.12605908e-01 -2.80040376e-01  1.70085611e-01 ... -2.51324319e-04\n",
      "  -4.80356361e-02 -4.44155123e-01]\n",
      " [ 3.29699959e-01 -3.30961544e-01 -3.87525453e-01 ...  3.76227482e-01\n",
      "   4.37547078e-01  1.73491316e-01]\n",
      " [ 4.90640681e-01 -4.57038330e-01  3.56365926e-01 ...  4.83864274e-01\n",
      "   4.98134507e-01  1.17180053e-01]\n",
      " ...\n",
      " [-1.30615703e-01 -3.75419731e-01 -4.55768707e-01 ...  2.62644506e-01\n",
      "  -1.50521162e-01  3.84838955e-01]\n",
      " [-4.39769276e-04  4.02049030e-01 -5.25693337e-02 ...  4.50579916e-01\n",
      "   4.27957481e-01  3.32050775e-01]\n",
      " [-7.16187764e-03  1.43141530e-02 -4.22019913e-01 ...  2.34317196e-01\n",
      "  -8.90883866e-02  2.33321232e-01]]\n",
      "(10, 120) [[ 0.08945801 -0.3058691  -0.22970851 ... -0.40881811 -0.26710951\n",
      "  -0.34875295]\n",
      " [ 0.42197598 -0.37532454  0.4755078  ... -0.02943921  0.3740739\n",
      "   0.36744245]\n",
      " [-0.45056287  0.42276332 -0.1768281  ...  0.103852    0.28824636\n",
      "   0.34122401]\n",
      " ...\n",
      " [ 0.00884637  0.45415721 -0.30734475 ... -0.18712743  0.11851977\n",
      "   0.19460514]\n",
      " [ 0.10079532  0.14276989 -0.36231541 ...  0.09390071  0.04907947\n",
      "  -0.42859124]\n",
      " [-0.21421944  0.46543598 -0.17055149 ...  0.0507706  -0.44979905\n",
      "  -0.49277422]]\n"
     ]
    }
   ],
   "source": [
    "input_nodes = 784\n",
    "hidden_nodes = 120\n",
    "output_nodes = 10\n",
    "\n",
    "learning_rate = 0.1\n",
    "epoch=5\n",
    "n = MyNeuralNet(input_nodes, hidden_nodes, output_nodes, learning_rate)\n",
    "n.printWeight()"
   ]
  },
  {
   "cell_type": "code",
   "execution_count": 16,
   "id": "91d1ccd2",
   "metadata": {},
   "outputs": [],
   "source": [
    "training_data_file = open('mnist_data/mnist_train.csv', 'r')\n",
    "training_data_list = training_data_file.readlines()\n",
    "training_data_file.close()"
   ]
  },
  {
   "cell_type": "code",
   "execution_count": 17,
   "id": "414d360b",
   "metadata": {
    "scrolled": true
   },
   "outputs": [
    {
     "name": "stderr",
     "output_type": "stream",
     "text": [
      "  0%|▏                                                                             | 171/60.0k [00:00<00:35, 1.70kiB/s]"
     ]
    },
    {
     "name": "stdout",
     "output_type": "stream",
     "text": [
      "====1 epoch ====\n"
     ]
    },
    {
     "name": "stderr",
     "output_type": "stream",
     "text": [
      "100%|████████████████████████████████████████████████████████████████████████████| 60.0k/60.0k [00:25<00:00, 2.32kiB/s]\n",
      "  1%|▌                                                                             | 399/60.0k [00:00<00:29, 2.02kiB/s]"
     ]
    },
    {
     "name": "stdout",
     "output_type": "stream",
     "text": [
      "====2 epoch ====\n"
     ]
    },
    {
     "name": "stderr",
     "output_type": "stream",
     "text": [
      "100%|████████████████████████████████████████████████████████████████████████████| 60.0k/60.0k [00:25<00:00, 2.32kiB/s]\n",
      "  0%|▎                                                                             | 222/60.0k [00:00<00:27, 2.20kiB/s]"
     ]
    },
    {
     "name": "stdout",
     "output_type": "stream",
     "text": [
      "====3 epoch ====\n"
     ]
    },
    {
     "name": "stderr",
     "output_type": "stream",
     "text": [
      "100%|████████████████████████████████████████████████████████████████████████████| 60.0k/60.0k [00:25<00:00, 2.36kiB/s]\n",
      "  1%|▌                                                                             | 435/60.0k [00:00<00:27, 2.19kiB/s]"
     ]
    },
    {
     "name": "stdout",
     "output_type": "stream",
     "text": [
      "====4 epoch ====\n"
     ]
    },
    {
     "name": "stderr",
     "output_type": "stream",
     "text": [
      "100%|████████████████████████████████████████████████████████████████████████████| 60.0k/60.0k [00:25<00:00, 2.37kiB/s]\n",
      "  0%|▎                                                                             | 210/60.0k [00:00<00:28, 2.08kiB/s]"
     ]
    },
    {
     "name": "stdout",
     "output_type": "stream",
     "text": [
      "====5 epoch ====\n"
     ]
    },
    {
     "name": "stderr",
     "output_type": "stream",
     "text": [
      "100%|████████████████████████████████████████████████████████████████████████████| 60.0k/60.0k [00:25<00:00, 2.33kiB/s]\n"
     ]
    }
   ],
   "source": [
    "from tqdm import tqdm\n",
    "for i in range(epoch):\n",
    "    print('===={} epoch ===='.format(i+1))\n",
    "    progress_bar = tqdm(total=len(training_data_list),unit=\"iB\", unit_scale=True)\n",
    "    for record in training_data_list:\n",
    "        all_values = record.split(',')\n",
    "        inputs = (np.asfarray(all_values[1:]) / 255.0 * 0.99999) + 0.000001\n",
    "        targets = np.zeros(output_nodes) + 0.000001\n",
    "        targets[int(all_values[0])] = 0.99999\n",
    "        n.train(inputs, targets)\n",
    "        \n",
    "        progress_bar.update(1)\n",
    "    progress_bar.close()"
   ]
  },
  {
   "cell_type": "code",
   "execution_count": 18,
   "id": "15ee001e",
   "metadata": {},
   "outputs": [],
   "source": [
    "test_data_file = open('mnist_data/mnist_train.csv', 'r')\n",
    "test_data_list = test_data_file.readlines()\n",
    "test_data_file.close()"
   ]
  },
  {
   "cell_type": "code",
   "execution_count": 25,
   "id": "f62a3314",
   "metadata": {},
   "outputs": [
    {
     "name": "stdout",
     "output_type": "stream",
     "text": [
      "accuracy= 0.967\n"
     ]
    }
   ],
   "source": [
    "score = []\n",
    "for record in test_data_list:\n",
    "    all_values = record.split(',')\n",
    "    inputs = (np.asfarray(all_values[1:])/255.0*0.99)+0.01\n",
    "    result= n.inference(inputs)\n",
    "    if int(all_values[0]) == result.argmax():\n",
    "          score.append(1)\n",
    "    else:\n",
    "        score.append(0)\n",
    "score_array = np.asarray(score)\n",
    "accuracy= score_array.sum()/ score_array.size\n",
    "print('accuracy=',accuracy)"
   ]
  },
  {
   "cell_type": "code",
   "execution_count": 20,
   "id": "524c1fba",
   "metadata": {},
   "outputs": [],
   "source": [
    "import pickle\n",
    "filename = f'{input_nodes}-{hidden_nodes}-{output_nodes}-{learning_rate}-ep{epoch}-acc{accuracy}.obj'\n",
    "\n",
    "filehandler= open(filename,'wb')\n",
    "pickle.dump(n,filehandler)\n",
    "filehandler.close()\n",
    "\n"
   ]
  },
  {
   "cell_type": "code",
   "execution_count": 22,
   "id": "53bfb517",
   "metadata": {},
   "outputs": [
    {
     "name": "stdout",
     "output_type": "stream",
     "text": [
      "<__main__.MyNeuralNet object at 0x00000199709D3430>\n"
     ]
    }
   ],
   "source": [
    "file= open(\"784-120-10-0.1-ep5-acc0.9815166666666667.obj\",\"rb\")\n",
    "loadedNet = pickle.load(file)\n",
    "file.close()\n",
    "\n",
    "print(loadedNet)\n",
    "# print(loadedNet,inference([10,10,20,20]))"
   ]
  },
  {
   "cell_type": "markdown",
   "id": "9bde60d1",
   "metadata": {},
   "source": [
    "# Test"
   ]
  },
  {
   "cell_type": "code",
   "execution_count": 23,
   "id": "005cc7dd",
   "metadata": {},
   "outputs": [],
   "source": [
    "test_data_file = open('mnist_data/mnist_test.csv', 'r')\n",
    "test_data_list = test_data_file.readlines()\n",
    "test_data_file.close()"
   ]
  },
  {
   "cell_type": "code",
   "execution_count": 108,
   "id": "f68eb4c0",
   "metadata": {},
   "outputs": [],
   "source": [
    "# matchfalse = 0\n",
    "# for record in test_data_list:\n",
    "#     all_values = record.split(',')\n",
    "#     inputs = (np.asfarray(all_values[1:]) / 255.0 * 0.99) + 0.01\n",
    "#     result = n.inference(inputs)\n",
    "#     print('test result : {} to {}'.format(all_values[0], result.argmax()))\n",
    "#     if int(all_values[0]) != int(result.argmax()):\n",
    "#         matchfalse += 1\n",
    "# print(str(matchfalse/len(test_data_list)*100)+\"%\")"
   ]
  },
  {
   "cell_type": "code",
   "execution_count": 24,
   "id": "6fe39b18",
   "metadata": {},
   "outputs": [
    {
     "name": "stdout",
     "output_type": "stream",
     "text": [
      "accuracy= 0.967\n"
     ]
    }
   ],
   "source": [
    "score = []\n",
    "for record in test_data_list:\n",
    "    all_values = record.split(',')\n",
    "    inputs = (np.asfarray(all_values[1:])/255.0*0.99)+0.01\n",
    "    result= loadedNet.inference(inputs)\n",
    "    if int(all_values[0]) == result.argmax():\n",
    "          score.append(1)\n",
    "    else:\n",
    "        score.append(0)\n",
    "score_array = np.asarray(score)\n",
    "accuracy= score_array.sum()/ score_array.size\n",
    "print('accuracy=',accuracy)"
   ]
  },
  {
   "cell_type": "code",
   "execution_count": null,
   "id": "6922b738",
   "metadata": {},
   "outputs": [],
   "source": [
    "cunstom Data"
   ]
  },
  {
   "cell_type": "code",
   "execution_count": 10,
   "id": "55be36fe",
   "metadata": {},
   "outputs": [
    {
     "name": "stdout",
     "output_type": "stream",
     "text": [
      "Requirement already satisfied: pillow in c:\\users\\ki\\anaconda3\\lib\\site-packages (8.2.0)\n",
      "Note: you may need to restart the kernel to use updated packages.\n"
     ]
    }
   ],
   "source": [
    "pip install pillow"
   ]
  },
  {
   "cell_type": "code",
   "execution_count": null,
   "id": "2d3bbe47",
   "metadata": {},
   "outputs": [],
   "source": []
  },
  {
   "cell_type": "code",
   "execution_count": null,
   "id": "b99db778",
   "metadata": {},
   "outputs": [],
   "source": []
  },
  {
   "cell_type": "code",
   "execution_count": 13,
   "id": "88c7a640",
   "metadata": {},
   "outputs": [],
   "source": [
    "import numpy as np\n",
    "import matplotlib.pyplot as plt\n",
    "import pandas as pd\n",
    "%matplotlib inline\n",
    "from PIL import Image, ImageOps"
   ]
  },
  {
   "cell_type": "code",
   "execution_count": 21,
   "id": "d6388090",
   "metadata": {},
   "outputs": [
    {
     "name": "stdout",
     "output_type": "stream",
     "text": [
      "<PIL.PngImagePlugin.PngImageFile image mode=RGB size=28x28 at 0x2558DFB13A0>\n",
      "<PIL.Image.Image image mode=L size=28x28 at 0x2558D28FFA0>\n",
      "785\n"
     ]
    }
   ],
   "source": [
    "img= Image.open('4_001.png')\n",
    "img_gray= img.convert(\"L\")\n",
    "print(img)\n",
    "print(img_gray)\n",
    "# img_gray.show()\n",
    "\n",
    "img_inverted =ImageOps.invert(img_gray)\n",
    "# img_inverted.show()\n",
    "\n",
    "pixel_list = np.asarray(img_inverted).flatten().tolist()\n",
    "pixel_list.insert(0,5)\n",
    "print(len(pixel_list))"
   ]
  },
  {
   "cell_type": "code",
   "execution_count": 23,
   "id": "da7bde66",
   "metadata": {},
   "outputs": [
    {
     "name": "stdout",
     "output_type": "stream",
     "text": [
      "<PIL.PngImagePlugin.PngImageFile image mode=RGB size=28x28 at 0x2558DFB14F0>\n",
      "<PIL.Image.Image image mode=L size=28x28 at 0x2558C4733D0>\n",
      "785\n",
      "Number :  4\n"
     ]
    },
    {
     "data": {
      "image/png": "[encoded data removed]",
      "text/plain": [
       "<Figure size 432x288 with 1 Axes>"
      ]
     },
     "metadata": {
      "needs_background": "light"
     },
     "output_type": "display_data"
    }
   ],
   "source": [
    "img= Image.open('4_001.png')\n",
    "img_gray= img.convert(\"L\")\n",
    "print(img)\n",
    "print(img_gray)\n",
    "# img_gray.show()\n",
    "\n",
    "img_inverted =ImageOps.invert(img_gray)\n",
    "# img_inverted.show()\n",
    "\n",
    "pixel_list = np.asarray(img_inverted).flatten().tolist()\n",
    "pixel_list.insert(0,4)\n",
    "print(len(pixel_list))\n",
    "\n",
    "image_array = np.asfarray(pixel_list[1:]).reshape((28,28))\n",
    "plt.imshow(image_array, cmap='Greys', interpolation='None')\n",
    "print('Number : ', pixel_list[0])"
   ]
  },
  {
   "cell_type": "code",
   "execution_count": null,
   "id": "c8ac4bca",
   "metadata": {},
   "outputs": [],
   "source": []
  }
 ],
 "metadata": {
  "kernelspec": {
   "display_name": "Python 3",
   "language": "python",
   "name": "python3"
  },
  "language_info": {
   "codemirror_mode": {
    "name": "ipython",
    "version": 3
   },
   "file_extension": ".py",
   "mimetype": "text/x-python",
   "name": "python",
   "nbconvert_exporter": "python",
   "pygments_lexer": "ipython3",
   "version": "3.8.8"
  },
  "toc": {
   "base_numbering": 1,
   "nav_menu": {},
   "number_sections": true,
   "sideBar": true,
   "skip_h1_title": false,
   "title_cell": "Table of Contents",
   "title_sidebar": "Contents",
   "toc_cell": false,
   "toc_position": {},
   "toc_section_display": true,
   "toc_window_display": false
  }
 },
 "nbformat": 4,
 "nbformat_minor": 5
}
