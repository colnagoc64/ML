{
 "cells": [
  {
   "cell_type": "code",
   "execution_count": 17,
   "id": "d090d05e",
   "metadata": {
    "scrolled": true
   },
   "outputs": [],
   "source": [
    "import pymysql"
   ]
  },
  {
   "cell_type": "code",
   "execution_count": null,
   "id": "9a3f0ac4",
   "metadata": {},
   "outputs": [],
   "source": [
    "con = pymysql.connect(\n",
    "    host= 'localhost',\n",
    "    port =  3306,\n",
    "    user = 'root',\n",
    "    password = '1234',\n",
    "    db = 'mldb3',\n",
    "    charset = 'utf8'\n",
    ")\n",
    "con\n",
    "print('1. 연결성공')"
   ]
  },
  {
   "cell_type": "code",
   "execution_count": null,
   "id": "56d3a447",
   "metadata": {},
   "outputs": [],
   "source": [
    "cur = con.cursor()\n",
    "cur\n",
    "print('2. 커서 객체 획득')"
   ]
  },
  {
   "cell_type": "code",
   "execution_count": null,
   "id": "059e08e0",
   "metadata": {},
   "outputs": [],
   "source": [
    "#sql = 'select * from member'\n",
    "sql = \"\"\"\n",
    "    select o2.orderid, m.name , o2.productid , o2.totalprice\n",
    "    from orderlist o2\n",
    "    inner join `member` m \n",
    "    on o2.memberid = m.id and m.id = 'park'\n",
    "    order by productid desc\n",
    "    \"\"\""
   ]
  },
  {
   "cell_type": "code",
   "execution_count": null,
   "id": "5755f2a6",
   "metadata": {},
   "outputs": [],
   "source": [
    "result_count = cur.execute(sql)\n",
    "print('3. sql전송 성공', result_count)"
   ]
  },
  {
   "cell_type": "code",
   "execution_count": 51,
   "id": "324df0bc",
   "metadata": {},
   "outputs": [
    {
     "name": "stdout",
     "output_type": "stream",
     "text": [
      "4. 검색결과 --------\n",
      "(('apple', 'java', 'fun java', '555555555'), ('park', 'jsp', 'fun jsp', '888'), ('apple', 'spring', 'fun spring', '555555555'), ('apple', 'android', 'fun android', '555555555'), ('park', 'swift', 'fun swift', '888'), ('summer', 'python', 'fun hahaha', 'summer'), ('park', 'jsp', 'fun jsp', '888'), ('park', 'jsp', 'fun jsp2', '888'), ('apple', 'java', 'good java', '555555555'))\n"
     ]
    }
   ],
   "source": [
    "rows=cur.fetchall()\n",
    "print('4. 검색결과 --------')\n",
    "print(rows)"
   ]
  },
  {
   "cell_type": "code",
   "execution_count": 52,
   "id": "02b1172f",
   "metadata": {},
   "outputs": [],
   "source": [
    "con.close() # 메모리가 잡혀있는 상태이기때문에 끊어줘야한다"
   ]
  },
  {
   "cell_type": "code",
   "execution_count": 27,
   "id": "fd9e8762",
   "metadata": {},
   "outputs": [
    {
     "name": "stdout",
     "output_type": "stream",
     "text": [
      "0 alicia\n",
      "1 apple\n",
      "2 apple111\n",
      "3 com\n",
      "4 park\n",
      "5 pen\n",
      "6 spring\n",
      "7 summer\n",
      "8 sun\n",
      "9 sunday2\n",
      "10 water\n",
      "11 win\n",
      "12 win2\n",
      "13 win3\n",
      "14 winter\n"
     ]
    }
   ],
   "source": [
    "for index, row, in enumerate(rows):\n",
    "    #print(index,row)\n",
    "    print(index,row)"
   ]
  },
  {
   "cell_type": "markdown",
   "id": "19f3988d",
   "metadata": {},
   "source": [
    "### 함수로 만들기"
   ]
  },
  {
   "cell_type": "code",
   "execution_count": 128,
   "id": "0d8d44f4",
   "metadata": {},
   "outputs": [],
   "source": [
    "def connect():\n",
    "    con = pymysql.connect(\n",
    "    host='localhost',\n",
    "    port=3306,\n",
    "    user='root',\n",
    "    password='1234',\n",
    "    db='mldb',\n",
    "    charset='utf8'\n",
    "    )\n",
    "    print('1. 연결성공')\n",
    "    cur = con.cursor()\n",
    "    print('2. 커서 객체 획득')\n",
    "    return cur,con"
   ]
  },
  {
   "cell_type": "markdown",
   "id": "c6523352",
   "metadata": {},
   "source": [
    "return을 넣어야 메모리값에만 있지않고 변수가 넣어진다. 즉 겉값에들어가지않는다"
   ]
  },
  {
   "cell_type": "code",
   "execution_count": 129,
   "id": "99bf6564",
   "metadata": {},
   "outputs": [
    {
     "name": "stdout",
     "output_type": "stream",
     "text": [
      "1. 연결성공\n",
      "2. 커서 객체 획득\n"
     ]
    }
   ],
   "source": [
    "#위에 함수에 리턴 넣은데로 순서대로 작성해야 값이 들어감\n",
    "cur,con=connect()"
   ]
  },
  {
   "cell_type": "code",
   "execution_count": 80,
   "id": "dd6e97ce",
   "metadata": {},
   "outputs": [],
   "source": [
    "def sql_execute(cur,data):\n",
    "    sql = \"\"\"\n",
    "    select o2.orderid, m.name , o2.productid , o2.totalprice\n",
    "    from orderlist o2\n",
    "    inner join `member` m \n",
    "    on o2.memberid = m.id and m.id = %s\n",
    "    order by productid desc\n",
    "    \"\"\"\n",
    "    result= cur.execute(sql,data)\n",
    "    return result"
   ]
  },
  {
   "cell_type": "code",
   "execution_count": 73,
   "id": "a5d67bce",
   "metadata": {},
   "outputs": [
    {
     "data": {
      "text/plain": [
       "4"
      ]
     },
     "execution_count": 73,
     "metadata": {},
     "output_type": "execute_result"
    }
   ],
   "source": [
    "sql_result =sql_execute(cur,'apple')\n",
    "sql_result"
   ]
  },
  {
   "cell_type": "markdown",
   "id": "f88efc86",
   "metadata": {},
   "source": [
    "1. 누가 어떤 물건을 얼마나 샀는가? "
   ]
  },
  {
   "cell_type": "code",
   "execution_count": 103,
   "id": "b20f813c",
   "metadata": {},
   "outputs": [
    {
     "name": "stdout",
     "output_type": "stream",
     "text": [
      "누가??:park\n"
     ]
    }
   ],
   "source": [
    "who = input('누가??:')"
   ]
  },
  {
   "cell_type": "code",
   "execution_count": 104,
   "id": "ca637809",
   "metadata": {},
   "outputs": [
    {
     "data": {
      "text/plain": [
       "4"
      ]
     },
     "execution_count": 104,
     "metadata": {},
     "output_type": "execute_result"
    }
   ],
   "source": [
    "sql_result2 = sql_execute(cur, who)\n",
    "sql_result2"
   ]
  },
  {
   "cell_type": "code",
   "execution_count": 83,
   "id": "25e8abb8",
   "metadata": {},
   "outputs": [],
   "source": [
    "def out_data(cur):\n",
    "    rows =cur.fetchall()\n",
    "    return rows"
   ]
  },
  {
   "cell_type": "code",
   "execution_count": 105,
   "id": "e99ff192",
   "metadata": {},
   "outputs": [
    {
     "data": {
      "text/plain": [
       "((2, 'park', '101', 6000),\n",
       " (1, 'park', '100', 5000),\n",
       " (3, 'park', '100', 10000),\n",
       " (4, 'park', '100', 3000))"
      ]
     },
     "execution_count": 105,
     "metadata": {},
     "output_type": "execute_result"
    }
   ],
   "source": [
    "result_rows = out_data(cur)\n",
    "result_rows"
   ]
  },
  {
   "cell_type": "code",
   "execution_count": 85,
   "id": "d6fa44c9",
   "metadata": {},
   "outputs": [],
   "source": [
    "def db_close(con):\n",
    "    con.close()"
   ]
  },
  {
   "cell_type": "code",
   "execution_count": 106,
   "id": "caef9d3d",
   "metadata": {},
   "outputs": [],
   "source": [
    "# con 연결 끊는거 위에서 했던거 처럼 함수화시컨것뿐\n",
    "db_close(con)"
   ]
  },
  {
   "cell_type": "markdown",
   "id": "25365fba",
   "metadata": {},
   "source": [
    "2.제일 높은 금액은?"
   ]
  },
  {
   "cell_type": "code",
   "execution_count": 94,
   "id": "b7297ab4",
   "metadata": {},
   "outputs": [
    {
     "data": {
      "text/plain": [
       "[2000, 4000]"
      ]
     },
     "execution_count": 94,
     "metadata": {},
     "output_type": "execute_result"
    }
   ],
   "source": [
    "[x[3] for x in result_rows]"
   ]
  },
  {
   "cell_type": "code",
   "execution_count": 95,
   "id": "c2690989",
   "metadata": {},
   "outputs": [
    {
     "data": {
      "text/plain": [
       "4000"
      ]
     },
     "execution_count": 95,
     "metadata": {},
     "output_type": "execute_result"
    }
   ],
   "source": [
    "max([x[3] for x in result_rows])"
   ]
  },
  {
   "cell_type": "markdown",
   "id": "9fd4a117",
   "metadata": {},
   "source": [
    "3.제일 많이 산 물건의 id는?"
   ]
  },
  {
   "cell_type": "code",
   "execution_count": 96,
   "id": "00008d2b",
   "metadata": {},
   "outputs": [],
   "source": [
    "import pandas as pd"
   ]
  },
  {
   "cell_type": "code",
   "execution_count": 107,
   "id": "75985ec0",
   "metadata": {},
   "outputs": [],
   "source": [
    "result_df = pd.DataFrame(data = result_rows, \n",
    "                         columns = ['주문id', 'name', '제품id', '주문총가격'])"
   ]
  },
  {
   "cell_type": "code",
   "execution_count": 108,
   "id": "e3c8532e",
   "metadata": {},
   "outputs": [
    {
     "data": {
      "text/html": [
       "<div>\n",
       "<style scoped>\n",
       "    .dataframe tbody tr th:only-of-type {\n",
       "        vertical-align: middle;\n",
       "    }\n",
       "\n",
       "    .dataframe tbody tr th {\n",
       "        vertical-align: top;\n",
       "    }\n",
       "\n",
       "    .dataframe thead th {\n",
       "        text-align: right;\n",
       "    }\n",
       "</style>\n",
       "<table border=\"1\" class=\"dataframe\">\n",
       "  <thead>\n",
       "    <tr style=\"text-align: right;\">\n",
       "      <th></th>\n",
       "      <th>주문id</th>\n",
       "      <th>name</th>\n",
       "      <th>제품id</th>\n",
       "      <th>주문총가격</th>\n",
       "    </tr>\n",
       "  </thead>\n",
       "  <tbody>\n",
       "    <tr>\n",
       "      <th>0</th>\n",
       "      <td>2</td>\n",
       "      <td>park</td>\n",
       "      <td>101</td>\n",
       "      <td>6000</td>\n",
       "    </tr>\n",
       "    <tr>\n",
       "      <th>1</th>\n",
       "      <td>1</td>\n",
       "      <td>park</td>\n",
       "      <td>100</td>\n",
       "      <td>5000</td>\n",
       "    </tr>\n",
       "    <tr>\n",
       "      <th>2</th>\n",
       "      <td>3</td>\n",
       "      <td>park</td>\n",
       "      <td>100</td>\n",
       "      <td>10000</td>\n",
       "    </tr>\n",
       "    <tr>\n",
       "      <th>3</th>\n",
       "      <td>4</td>\n",
       "      <td>park</td>\n",
       "      <td>100</td>\n",
       "      <td>3000</td>\n",
       "    </tr>\n",
       "  </tbody>\n",
       "</table>\n",
       "</div>"
      ],
      "text/plain": [
       "   주문id  name 제품id  주문총가격\n",
       "0     2  park  101   6000\n",
       "1     1  park  100   5000\n",
       "2     3  park  100  10000\n",
       "3     4  park  100   3000"
      ]
     },
     "execution_count": 108,
     "metadata": {},
     "output_type": "execute_result"
    }
   ],
   "source": [
    "result_df"
   ]
  },
  {
   "cell_type": "code",
   "execution_count": 109,
   "id": "11d2f9e5",
   "metadata": {},
   "outputs": [
    {
     "data": {
      "text/plain": [
       "['101', '100', '100', '100']"
      ]
     },
     "execution_count": 109,
     "metadata": {},
     "output_type": "execute_result"
    }
   ],
   "source": [
    "[x for x in result_df['제품id']]"
   ]
  },
  {
   "cell_type": "code",
   "execution_count": 100,
   "id": "e0c895f7",
   "metadata": {},
   "outputs": [],
   "source": [
    "from collections import Counter"
   ]
  },
  {
   "cell_type": "code",
   "execution_count": 110,
   "id": "7ca56ce9",
   "metadata": {},
   "outputs": [
    {
     "data": {
      "text/plain": [
       "Counter({'101': 1, '100': 3})"
      ]
     },
     "execution_count": 110,
     "metadata": {},
     "output_type": "execute_result"
    }
   ],
   "source": [
    "counter_id = Counter(result_df['제품id'])\n",
    "counter_id"
   ]
  },
  {
   "cell_type": "code",
   "execution_count": 111,
   "id": "51099198",
   "metadata": {},
   "outputs": [
    {
     "name": "stdout",
     "output_type": "stream",
     "text": [
      "[('100', 3)]\n",
      "100\n"
     ]
    },
    {
     "data": {
      "text/plain": [
       "'100'"
      ]
     },
     "execution_count": 111,
     "metadata": {},
     "output_type": "execute_result"
    }
   ],
   "source": [
    "max_id = counter_id.most_common(n=1)\n",
    "print(max_id)\n",
    "print(max_id[0][0])\n",
    "max_id_result = max_id[0][0]\n",
    "max_id_result"
   ]
  },
  {
   "cell_type": "code",
   "execution_count": 112,
   "id": "52766984",
   "metadata": {},
   "outputs": [],
   "source": [
    "def sql_execute2(cur, data):\n",
    "    sql = \"\"\"\n",
    "    select * from product\n",
    "    where id = %s\n",
    "    \"\"\"\n",
    "    result2 = cur.execute(sql, data)\n",
    "    return result2"
   ]
  },
  {
   "cell_type": "code",
   "execution_count": 113,
   "id": "c3badc3b",
   "metadata": {},
   "outputs": [
    {
     "name": "stdout",
     "output_type": "stream",
     "text": [
      "1. 연결성공\n",
      "2. 커서 객체 획득\n"
     ]
    },
    {
     "data": {
      "text/plain": [
       "<pymysql.cursors.Cursor at 0x23dc45177f0>"
      ]
     },
     "execution_count": 113,
     "metadata": {},
     "output_type": "execute_result"
    }
   ],
   "source": [
    "cur, con = connect()\n",
    "cur"
   ]
  },
  {
   "cell_type": "code",
   "execution_count": 114,
   "id": "ebc2150b",
   "metadata": {},
   "outputs": [
    {
     "data": {
      "text/plain": [
       "1"
      ]
     },
     "execution_count": 114,
     "metadata": {},
     "output_type": "execute_result"
    }
   ],
   "source": [
    "sql_result2 = sql_execute2(cur, max_id_result)\n",
    "sql_result2"
   ]
  },
  {
   "cell_type": "code",
   "execution_count": 115,
   "id": "91d5010e",
   "metadata": {},
   "outputs": [
    {
     "data": {
      "text/plain": [
       "('100', 'java', 'fun java', '1000')"
      ]
     },
     "execution_count": 115,
     "metadata": {},
     "output_type": "execute_result"
    }
   ],
   "source": [
    "result_rows = out_data(cur)\n",
    "result_rows[0]"
   ]
  },
  {
   "cell_type": "code",
   "execution_count": 116,
   "id": "5eecde40",
   "metadata": {},
   "outputs": [
    {
     "name": "stdout",
     "output_type": "stream",
     "text": [
      "당신에게 추천하고 싶은 물건은 다음과 같습니다.\n",
      "-----------------------------------\n",
      "물건의 이름은  java\n",
      "물건의 내용은  fun java\n",
      "물건의 가격은  1000\n"
     ]
    }
   ],
   "source": [
    "print('당신에게 추천하고 싶은 물건은 다음과 같습니다.')\n",
    "print('-----------------------------------')\n",
    "print('물건의 이름은 ', result_rows[0][1])\n",
    "print('물건의 내용은 ', result_rows[0][2])\n",
    "print('물건의 가격은 ', result_rows[0][3])"
   ]
  },
  {
   "cell_type": "code",
   "execution_count": 117,
   "id": "cfc66461",
   "metadata": {},
   "outputs": [],
   "source": [
    "def sql_execute3(con, cur, data):\n",
    "    sql = \"\"\"\n",
    "    insert into orderlist values (null, %s, %s, %s)\n",
    "    \"\"\"\n",
    "    result3 = cur.execute(sql, data)\n",
    "    con.commit()\n",
    "    return result3"
   ]
  },
  {
   "cell_type": "code",
   "execution_count": 118,
   "id": "dd7ee04b",
   "metadata": {},
   "outputs": [
    {
     "name": "stdout",
     "output_type": "stream",
     "text": [
      "구매하시겠습니까?(yes/no)yes\n",
      "-------구매를 진행합니다.---------\n",
      "당신의 id는 park\n",
      "----구매가 완료되었습니다.\n"
     ]
    }
   ],
   "source": [
    "order_question = input('구매하시겠습니까?(yes/no)')\n",
    "if order_question == 'yes':\n",
    "    print('-------구매를 진행합니다.---------')\n",
    "    your_id = input('당신의 id는 ')\n",
    "    data_list = [your_id, result_rows[0][0], int(result_rows[0][3])]\n",
    "    result4 = sql_execute3(con, cur, data_list)\n",
    "    if result4 == 1:\n",
    "        print('----구매가 완료되었습니다.')\n",
    "    else:\n",
    "        print('----구매에 문제가 발생했습니다.')"
   ]
  },
  {
   "cell_type": "code",
   "execution_count": 119,
   "id": "12af77bc",
   "metadata": {},
   "outputs": [],
   "source": [
    "con.close()"
   ]
  },
  {
   "cell_type": "code",
   "execution_count": 120,
   "id": "0b8bc18e",
   "metadata": {},
   "outputs": [],
   "source": [
    "### 추천을 하고자 하는 컨텐츠기반 룰을 정하고, \n",
    "### 물건을 3개 이상 추천하는 추천시스템을 완성하시오.\n",
    "### db의 데이터를 임의로 추가할 수 있음."
   ]
  },
  {
   "cell_type": "code",
   "execution_count": 160,
   "id": "e9e0825c",
   "metadata": {},
   "outputs": [
    {
     "name": "stdout",
     "output_type": "stream",
     "text": [
      "1. 연결성공\n",
      "2. 커서 객체 획득\n"
     ]
    }
   ],
   "source": [
    "cur,con=connect()"
   ]
  },
  {
   "cell_type": "code",
   "execution_count": 161,
   "id": "a3f9bdc1",
   "metadata": {},
   "outputs": [],
   "source": [
    "def sql_execute4(cur, data):\n",
    "    sql = \"\"\"\n",
    "    select o.orderid ,o.productid\n",
    "    from orderlist o \n",
    "    inner join product p \n",
    "    on o.productid = p.id \n",
    "    where o.memberid != %s\n",
    "    \"\"\"\n",
    "    result4 = cur.execute(sql, data)\n",
    "    return result4"
   ]
  },
  {
   "cell_type": "code",
   "execution_count": 162,
   "id": "8753f494",
   "metadata": {},
   "outputs": [
    {
     "name": "stdout",
     "output_type": "stream",
     "text": [
      "누가?? :park\n"
     ]
    }
   ],
   "source": [
    "who = input('누가?? :')"
   ]
  },
  {
   "cell_type": "code",
   "execution_count": 163,
   "id": "fe6bc083",
   "metadata": {
    "scrolled": true
   },
   "outputs": [
    {
     "data": {
      "text/plain": [
       "21"
      ]
     },
     "execution_count": 163,
     "metadata": {},
     "output_type": "execute_result"
    }
   ],
   "source": [
    "sql_result4 = sql_execute4(cur, who)\n",
    "sql_result4"
   ]
  },
  {
   "cell_type": "code",
   "execution_count": 164,
   "id": "25110ef7",
   "metadata": {},
   "outputs": [],
   "source": [
    "def out_data(cur):\n",
    "    rows = cur.fetchall()\n",
    "    return rows"
   ]
  },
  {
   "cell_type": "code",
   "execution_count": 165,
   "id": "b21dc0a0",
   "metadata": {},
   "outputs": [
    {
     "data": {
      "text/plain": [
       "((5, '100'),\n",
       " (6, '101'),\n",
       " (7, '102'),\n",
       " (9, '101'),\n",
       " (10, '103'),\n",
       " (11, '104'),\n",
       " (12, '105'),\n",
       " (13, '101'),\n",
       " (14, '106'),\n",
       " (15, '104'),\n",
       " (16, '103'),\n",
       " (17, '105'),\n",
       " (18, '105'),\n",
       " (19, '105'),\n",
       " (20, '108'),\n",
       " (21, '109'),\n",
       " (22, '100'),\n",
       " (23, '101'),\n",
       " (24, '103'),\n",
       " (25, '108'),\n",
       " (26, '107'))"
      ]
     },
     "execution_count": 165,
     "metadata": {},
     "output_type": "execute_result"
    }
   ],
   "source": [
    "result_rows = out_data(cur)\n",
    "result_rows"
   ]
  },
  {
   "cell_type": "code",
   "execution_count": 137,
   "id": "8e9413bd",
   "metadata": {},
   "outputs": [],
   "source": [
    "db_close(con)"
   ]
  },
  {
   "cell_type": "code",
   "execution_count": 166,
   "id": "3c73f694",
   "metadata": {},
   "outputs": [],
   "source": [
    "result_df2 = pd.DataFrame(data = result_rows, \n",
    "                         columns = ['주문id',  '제품id'])"
   ]
  },
  {
   "cell_type": "code",
   "execution_count": 167,
   "id": "09c97582",
   "metadata": {},
   "outputs": [
    {
     "data": {
      "text/html": [
       "<div>\n",
       "<style scoped>\n",
       "    .dataframe tbody tr th:only-of-type {\n",
       "        vertical-align: middle;\n",
       "    }\n",
       "\n",
       "    .dataframe tbody tr th {\n",
       "        vertical-align: top;\n",
       "    }\n",
       "\n",
       "    .dataframe thead th {\n",
       "        text-align: right;\n",
       "    }\n",
       "</style>\n",
       "<table border=\"1\" class=\"dataframe\">\n",
       "  <thead>\n",
       "    <tr style=\"text-align: right;\">\n",
       "      <th></th>\n",
       "      <th>주문id</th>\n",
       "      <th>제품id</th>\n",
       "    </tr>\n",
       "  </thead>\n",
       "  <tbody>\n",
       "    <tr>\n",
       "      <th>0</th>\n",
       "      <td>5</td>\n",
       "      <td>100</td>\n",
       "    </tr>\n",
       "    <tr>\n",
       "      <th>1</th>\n",
       "      <td>6</td>\n",
       "      <td>101</td>\n",
       "    </tr>\n",
       "    <tr>\n",
       "      <th>2</th>\n",
       "      <td>7</td>\n",
       "      <td>102</td>\n",
       "    </tr>\n",
       "    <tr>\n",
       "      <th>3</th>\n",
       "      <td>9</td>\n",
       "      <td>101</td>\n",
       "    </tr>\n",
       "    <tr>\n",
       "      <th>4</th>\n",
       "      <td>10</td>\n",
       "      <td>103</td>\n",
       "    </tr>\n",
       "    <tr>\n",
       "      <th>5</th>\n",
       "      <td>11</td>\n",
       "      <td>104</td>\n",
       "    </tr>\n",
       "    <tr>\n",
       "      <th>6</th>\n",
       "      <td>12</td>\n",
       "      <td>105</td>\n",
       "    </tr>\n",
       "    <tr>\n",
       "      <th>7</th>\n",
       "      <td>13</td>\n",
       "      <td>101</td>\n",
       "    </tr>\n",
       "    <tr>\n",
       "      <th>8</th>\n",
       "      <td>14</td>\n",
       "      <td>106</td>\n",
       "    </tr>\n",
       "    <tr>\n",
       "      <th>9</th>\n",
       "      <td>15</td>\n",
       "      <td>104</td>\n",
       "    </tr>\n",
       "    <tr>\n",
       "      <th>10</th>\n",
       "      <td>16</td>\n",
       "      <td>103</td>\n",
       "    </tr>\n",
       "    <tr>\n",
       "      <th>11</th>\n",
       "      <td>17</td>\n",
       "      <td>105</td>\n",
       "    </tr>\n",
       "    <tr>\n",
       "      <th>12</th>\n",
       "      <td>18</td>\n",
       "      <td>105</td>\n",
       "    </tr>\n",
       "    <tr>\n",
       "      <th>13</th>\n",
       "      <td>19</td>\n",
       "      <td>105</td>\n",
       "    </tr>\n",
       "    <tr>\n",
       "      <th>14</th>\n",
       "      <td>20</td>\n",
       "      <td>108</td>\n",
       "    </tr>\n",
       "    <tr>\n",
       "      <th>15</th>\n",
       "      <td>21</td>\n",
       "      <td>109</td>\n",
       "    </tr>\n",
       "    <tr>\n",
       "      <th>16</th>\n",
       "      <td>22</td>\n",
       "      <td>100</td>\n",
       "    </tr>\n",
       "    <tr>\n",
       "      <th>17</th>\n",
       "      <td>23</td>\n",
       "      <td>101</td>\n",
       "    </tr>\n",
       "    <tr>\n",
       "      <th>18</th>\n",
       "      <td>24</td>\n",
       "      <td>103</td>\n",
       "    </tr>\n",
       "    <tr>\n",
       "      <th>19</th>\n",
       "      <td>25</td>\n",
       "      <td>108</td>\n",
       "    </tr>\n",
       "    <tr>\n",
       "      <th>20</th>\n",
       "      <td>26</td>\n",
       "      <td>107</td>\n",
       "    </tr>\n",
       "  </tbody>\n",
       "</table>\n",
       "</div>"
      ],
      "text/plain": [
       "    주문id 제품id\n",
       "0      5  100\n",
       "1      6  101\n",
       "2      7  102\n",
       "3      9  101\n",
       "4     10  103\n",
       "5     11  104\n",
       "6     12  105\n",
       "7     13  101\n",
       "8     14  106\n",
       "9     15  104\n",
       "10    16  103\n",
       "11    17  105\n",
       "12    18  105\n",
       "13    19  105\n",
       "14    20  108\n",
       "15    21  109\n",
       "16    22  100\n",
       "17    23  101\n",
       "18    24  103\n",
       "19    25  108\n",
       "20    26  107"
      ]
     },
     "execution_count": 167,
     "metadata": {},
     "output_type": "execute_result"
    }
   ],
   "source": [
    "result_df2"
   ]
  },
  {
   "cell_type": "code",
   "execution_count": 168,
   "id": "e8d77ee9",
   "metadata": {},
   "outputs": [],
   "source": [
    "counter_id = Counter(result_df2['제품id'])"
   ]
  },
  {
   "cell_type": "code",
   "execution_count": 169,
   "id": "3ca7f3a8",
   "metadata": {},
   "outputs": [
    {
     "data": {
      "text/plain": [
       "Counter({'100': 2,\n",
       "         '101': 4,\n",
       "         '102': 1,\n",
       "         '103': 3,\n",
       "         '104': 2,\n",
       "         '105': 4,\n",
       "         '106': 1,\n",
       "         '108': 2,\n",
       "         '109': 1,\n",
       "         '107': 1})"
      ]
     },
     "execution_count": 169,
     "metadata": {},
     "output_type": "execute_result"
    }
   ],
   "source": [
    "counter_id"
   ]
  },
  {
   "cell_type": "code",
   "execution_count": null,
   "id": "489395e6",
   "metadata": {},
   "outputs": [],
   "source": [
    "from collections import Counter"
   ]
  },
  {
   "cell_type": "code",
   "execution_count": 200,
   "id": "73d10e4a",
   "metadata": {},
   "outputs": [
    {
     "name": "stdout",
     "output_type": "stream",
     "text": [
      "[('101', 4), ('105', 4), ('103', 3)]\n"
     ]
    }
   ],
   "source": [
    "max_id = counter_id.most_common(n=3)\n",
    "top3=[]\n",
    "print(max_id)\n",
    "for i in range(3) :\n",
    "    max_id_result = max_id[i][0]\n",
    "    top3.append(max_id_result)    "
   ]
  },
  {
   "cell_type": "code",
   "execution_count": 201,
   "id": "7e5c7ad5",
   "metadata": {},
   "outputs": [
    {
     "data": {
      "text/plain": [
       "['101', '105', '103']"
      ]
     },
     "execution_count": 201,
     "metadata": {},
     "output_type": "execute_result"
    }
   ],
   "source": [
    "top3"
   ]
  },
  {
   "cell_type": "code",
   "execution_count": 187,
   "id": "defcfaf0",
   "metadata": {},
   "outputs": [],
   "source": [
    "def sql_execute5(cur, data):\n",
    "    sql = \"\"\"\n",
    "    select * from product\n",
    "    where id = %s\n",
    "    \"\"\"\n",
    "    result5 = cur.execute(sql, data)\n",
    "    return result5"
   ]
  },
  {
   "cell_type": "code",
   "execution_count": 223,
   "id": "16037036",
   "metadata": {},
   "outputs": [
    {
     "data": {
      "text/plain": [
       "[(('101', 'jsp', 'fun jsp', '2000'),),\n",
       " (('105', 'ios', 'fun ios', '6000'),),\n",
       " (('103', 'android', 'fun android', '4000'),)]"
      ]
     },
     "execution_count": 223,
     "metadata": {},
     "output_type": "execute_result"
    }
   ],
   "source": [
    "result_rows2=[]\n",
    "for i in range(3):\n",
    "    sql_result6 = sql_execute5(cur, top3[i])\n",
    "    result_rows2.append(out_data(cur)) \n",
    "result_rows2   "
   ]
  },
  {
   "cell_type": "code",
   "execution_count": 247,
   "id": "19176cc7",
   "metadata": {},
   "outputs": [],
   "source": [
    "l1=result_rows2[0][0]\n",
    "l2=result_rows2[1][0]\n",
    "l3=result_rows2[2][0]"
   ]
  },
  {
   "cell_type": "code",
   "execution_count": 251,
   "id": "7354278d",
   "metadata": {},
   "outputs": [
    {
     "name": "stdout",
     "output_type": "stream",
     "text": [
      "당신에게 추천하고 싶은 3가지 물건은 다음과 같습니다.\n",
      "-----------------------------------\n",
      "물건의 이름  jsp 가격  2000 입니다.\n",
      "물건의 이름  ios 가격  6000 입니다.\n",
      "물건의 이름  android 가격  4000 입니다.\n"
     ]
    }
   ],
   "source": [
    "print('당신에게 추천하고 싶은 3가지 물건은 다음과 같습니다.')\n",
    "print('-----------------------------------')\n",
    "print('물건의 이름 ', l1[1],'가격 ' ,l1[3] ,'입니다.')\n",
    "print('물건의 이름 ', l2[1],'가격 ' ,l2[3] ,'입니다.')\n",
    "print('물건의 이름 ', l3[1],'가격 ' ,l3[3] ,'입니다.')"
   ]
  },
  {
   "cell_type": "code",
   "execution_count": 265,
   "id": "cc56b33d",
   "metadata": {},
   "outputs": [],
   "source": [
    "def sql_execute6(con, cur, data):\n",
    "    sql = \"\"\"\n",
    "    insert into orderlist values (null, %s, %s, %s)\n",
    "    \"\"\"\n",
    "    result7 = cur.execute(sql, data)\n",
    "    con.commit()\n",
    "    return result7"
   ]
  },
  {
   "cell_type": "code",
   "execution_count": 271,
   "id": "7ac12655",
   "metadata": {},
   "outputs": [],
   "source": [
    "def buy():\n",
    "    order_question = input('구매하시겠습니까?(yes/no) :')\n",
    "    if order_question == 'yes':\n",
    "        print('-------구매를 진행합니다.---------')\n",
    "        your_id = input('당신의 id는 ')\n",
    "        to_buy = input('사고싶은 물건은?')\n",
    "        to_buy_count = input('필요한 개수는?')\n",
    "        if to_buy == 'jsp':\n",
    "            to_buy = l1[0]\n",
    "            to_buy_count = int(l1[3]) * int(to_buy_count)\n",
    "        elif to_buy =='ios':\n",
    "            to_buy =l2[0]\n",
    "            to_buy_count = int(l2[3]) * int(to_buy_count) \n",
    "        elif to_buy == 'android':\n",
    "            to_buy =l3[0]\n",
    "            to_buy_count = int(l3[3]) * int(to_buy_count) \n",
    "        data_list = [your_id, to_buy,to_buy_count]\n",
    "        result8 = sql_execute6(con, cur, data_list)\n",
    "        if result8 == 1:\n",
    "            print('----구매가 완료되었습니다.')\n",
    "            print('총 주문금액:',to_buy_count)\n",
    "        else:\n",
    "            print('----구매에 문제가 발생했습니다.')"
   ]
  },
  {
   "cell_type": "code",
   "execution_count": 272,
   "id": "ef7a56c9",
   "metadata": {},
   "outputs": [
    {
     "name": "stdout",
     "output_type": "stream",
     "text": [
      "구매하시겠습니까?(yes/no) :yes\n",
      "-------구매를 진행합니다.---------\n",
      "당신의 id는 win\n",
      "사고싶은 물건은?ios\n",
      "필요한 개수는?3\n",
      "----구매가 완료되었습니다.\n",
      "총 주문금액: 18000\n"
     ]
    }
   ],
   "source": [
    "buy()"
   ]
  }
 ],
 "metadata": {
  "kernelspec": {
   "display_name": "Python 3 (ipykernel)",
   "language": "python",
   "name": "python3"
  },
  "language_info": {
   "codemirror_mode": {
    "name": "ipython",
    "version": 3
   },
   "file_extension": ".py",
   "mimetype": "text/x-python",
   "name": "python",
   "nbconvert_exporter": "python",
   "pygments_lexer": "ipython3",
   "version": "3.9.7"
  },
  "toc": {
   "base_numbering": 1,
   "nav_menu": {},
   "number_sections": true,
   "sideBar": true,
   "skip_h1_title": false,
   "title_cell": "Table of Contents",
   "title_sidebar": "Contents",
   "toc_cell": false,
   "toc_position": {},
   "toc_section_display": true,
   "toc_window_display": false
  }
 },
 "nbformat": 4,
 "nbformat_minor": 5
}
